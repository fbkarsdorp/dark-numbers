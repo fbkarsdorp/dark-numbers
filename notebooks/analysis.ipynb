{
 "cells": [
  {
   "cell_type": "code",
   "execution_count": 1,
   "id": "b5c5ac41",
   "metadata": {
    "tags": []
   },
   "outputs": [
    {
     "name": "stderr",
     "output_type": "stream",
     "text": [
      "WARNING (pytensor.tensor.blas): Using NumPy C-API based implementation for BLAS functions.\n"
     ]
    }
   ],
   "source": [
    "from itertools import cycle\n",
    "\n",
    "import pandas as pd\n",
    "import bambi as bmb\n",
    "import arviz as az\n",
    "import seaborn as sns\n",
    "from statsmodels.graphics.mosaicplot import mosaic\n",
    "\n",
    "from scipy.special import expit\n",
    "\n",
    "import numpy as np\n",
    "import matplotlib.pyplot as plt\n",
    "import matplotlib.lines as mlines\n",
    "\n",
    "import seaborn as sb\n",
    "p = plt.rcParams\n",
    "p[\"font.sans-serif\"] = [\"Roboto Condensed\"]\n",
    "p[\"font.weight\"] = \"light\""
   ]
  },
  {
   "cell_type": "markdown",
   "id": "ca62e969",
   "metadata": {},
   "source": [
    "We import the preprocessed data:"
   ]
  },
  {
   "cell_type": "code",
   "execution_count": 2,
   "id": "e5f3aefa",
   "metadata": {
    "tags": []
   },
   "outputs": [
    {
     "data": {
      "text/html": [
       "<div>\n",
       "<style scoped>\n",
       "    .dataframe tbody tr th:only-of-type {\n",
       "        vertical-align: middle;\n",
       "    }\n",
       "\n",
       "    .dataframe tbody tr th {\n",
       "        vertical-align: top;\n",
       "    }\n",
       "\n",
       "    .dataframe thead th {\n",
       "        text-align: right;\n",
       "    }\n",
       "</style>\n",
       "<table border=\"1\" class=\"dataframe\">\n",
       "  <thead>\n",
       "    <tr style=\"text-align: right;\">\n",
       "      <th></th>\n",
       "      <th>id</th>\n",
       "      <th>count</th>\n",
       "      <th>age</th>\n",
       "      <th>sex</th>\n",
       "      <th>origin</th>\n",
       "      <th>prior</th>\n",
       "      <th>family</th>\n",
       "      <th>origin_org</th>\n",
       "      <th>assumed_origin</th>\n",
       "    </tr>\n",
       "  </thead>\n",
       "  <tbody>\n",
       "    <tr>\n",
       "      <th>3382</th>\n",
       "      <td>4296</td>\n",
       "      <td>2</td>\n",
       "      <td>55.0</td>\n",
       "      <td>female</td>\n",
       "      <td>ABROAD</td>\n",
       "      <td>no prior</td>\n",
       "      <td>family</td>\n",
       "      <td>NL</td>\n",
       "      <td>False</td>\n",
       "    </tr>\n",
       "    <tr>\n",
       "      <th>2430</th>\n",
       "      <td>3048</td>\n",
       "      <td>1</td>\n",
       "      <td>41.0</td>\n",
       "      <td>female</td>\n",
       "      <td>BE</td>\n",
       "      <td>no prior</td>\n",
       "      <td>family</td>\n",
       "      <td>OV</td>\n",
       "      <td>False</td>\n",
       "    </tr>\n",
       "    <tr>\n",
       "      <th>1383</th>\n",
       "      <td>1719</td>\n",
       "      <td>1</td>\n",
       "      <td>56.0</td>\n",
       "      <td>female</td>\n",
       "      <td>BE</td>\n",
       "      <td>no prior</td>\n",
       "      <td>no family</td>\n",
       "      <td>GE</td>\n",
       "      <td>False</td>\n",
       "    </tr>\n",
       "    <tr>\n",
       "      <th>4358</th>\n",
       "      <td>5516</td>\n",
       "      <td>1</td>\n",
       "      <td>22.0</td>\n",
       "      <td>male</td>\n",
       "      <td>BE</td>\n",
       "      <td>prior</td>\n",
       "      <td>no family</td>\n",
       "      <td>PA</td>\n",
       "      <td>False</td>\n",
       "    </tr>\n",
       "    <tr>\n",
       "      <th>3702</th>\n",
       "      <td>4684</td>\n",
       "      <td>1</td>\n",
       "      <td>32.0</td>\n",
       "      <td>male</td>\n",
       "      <td>BXL</td>\n",
       "      <td>no prior</td>\n",
       "      <td>no family</td>\n",
       "      <td>NaN</td>\n",
       "      <td>True</td>\n",
       "    </tr>\n",
       "    <tr>\n",
       "      <th>2638</th>\n",
       "      <td>3320</td>\n",
       "      <td>1</td>\n",
       "      <td>57.0</td>\n",
       "      <td>male</td>\n",
       "      <td>BE</td>\n",
       "      <td>prior</td>\n",
       "      <td>no family</td>\n",
       "      <td>GE</td>\n",
       "      <td>False</td>\n",
       "    </tr>\n",
       "    <tr>\n",
       "      <th>4113</th>\n",
       "      <td>5200</td>\n",
       "      <td>1</td>\n",
       "      <td>18.0</td>\n",
       "      <td>male</td>\n",
       "      <td>BXL</td>\n",
       "      <td>no prior</td>\n",
       "      <td>family</td>\n",
       "      <td>BXL</td>\n",
       "      <td>False</td>\n",
       "    </tr>\n",
       "    <tr>\n",
       "      <th>5735</th>\n",
       "      <td>7218</td>\n",
       "      <td>1</td>\n",
       "      <td>19.0</td>\n",
       "      <td>male</td>\n",
       "      <td>BE</td>\n",
       "      <td>no prior</td>\n",
       "      <td>no family</td>\n",
       "      <td>OV</td>\n",
       "      <td>False</td>\n",
       "    </tr>\n",
       "    <tr>\n",
       "      <th>2513</th>\n",
       "      <td>3163</td>\n",
       "      <td>1</td>\n",
       "      <td>22.0</td>\n",
       "      <td>male</td>\n",
       "      <td>BXL</td>\n",
       "      <td>prior</td>\n",
       "      <td>no family</td>\n",
       "      <td>BXL</td>\n",
       "      <td>False</td>\n",
       "    </tr>\n",
       "    <tr>\n",
       "      <th>3613</th>\n",
       "      <td>4574</td>\n",
       "      <td>1</td>\n",
       "      <td>18.0</td>\n",
       "      <td>male</td>\n",
       "      <td>ABROAD</td>\n",
       "      <td>no prior</td>\n",
       "      <td>no family</td>\n",
       "      <td>FR</td>\n",
       "      <td>False</td>\n",
       "    </tr>\n",
       "  </tbody>\n",
       "</table>\n",
       "</div>"
      ],
      "text/plain": [
       "        id  count   age     sex  origin     prior     family origin_org  \\\n",
       "3382  4296      2  55.0  female  ABROAD  no prior     family         NL   \n",
       "2430  3048      1  41.0  female      BE  no prior     family         OV   \n",
       "1383  1719      1  56.0  female      BE  no prior  no family         GE   \n",
       "4358  5516      1  22.0    male      BE     prior  no family         PA   \n",
       "3702  4684      1  32.0    male     BXL  no prior  no family        NaN   \n",
       "2638  3320      1  57.0    male      BE     prior  no family         GE   \n",
       "4113  5200      1  18.0    male     BXL  no prior     family        BXL   \n",
       "5735  7218      1  19.0    male      BE  no prior  no family         OV   \n",
       "2513  3163      1  22.0    male     BXL     prior  no family        BXL   \n",
       "3613  4574      1  18.0    male  ABROAD  no prior  no family         FR   \n",
       "\n",
       "      assumed_origin  \n",
       "3382           False  \n",
       "2430           False  \n",
       "1383           False  \n",
       "4358           False  \n",
       "3702            True  \n",
       "2638           False  \n",
       "4113           False  \n",
       "5735           False  \n",
       "2513           False  \n",
       "3613           False  "
      ]
     },
     "execution_count": 2,
     "metadata": {},
     "output_type": "execute_result"
    }
   ],
   "source": [
    "full_recid = pd.read_excel('../assets/recid_arrestation.xlsx', header=0)\n",
    "full_recid.sample(10)"
   ]
  },
  {
   "cell_type": "code",
   "execution_count": 3,
   "id": "5cebe392",
   "metadata": {
    "tags": []
   },
   "outputs": [
    {
     "data": {
      "text/html": [
       "<div>\n",
       "<style scoped>\n",
       "    .dataframe tbody tr th:only-of-type {\n",
       "        vertical-align: middle;\n",
       "    }\n",
       "\n",
       "    .dataframe tbody tr th {\n",
       "        vertical-align: top;\n",
       "    }\n",
       "\n",
       "    .dataframe thead th {\n",
       "        text-align: right;\n",
       "    }\n",
       "</style>\n",
       "<table border=\"1\" class=\"dataframe\">\n",
       "  <thead>\n",
       "    <tr style=\"text-align: right;\">\n",
       "      <th></th>\n",
       "      <th>id</th>\n",
       "      <th>count</th>\n",
       "      <th>age</th>\n",
       "      <th>sex</th>\n",
       "      <th>origin</th>\n",
       "      <th>prior</th>\n",
       "      <th>family</th>\n",
       "      <th>origin_org</th>\n",
       "      <th>assumed_origin</th>\n",
       "    </tr>\n",
       "  </thead>\n",
       "  <tbody>\n",
       "    <tr>\n",
       "      <th>3828</th>\n",
       "      <td>4835</td>\n",
       "      <td>1</td>\n",
       "      <td>42.0</td>\n",
       "      <td>A</td>\n",
       "      <td>B</td>\n",
       "      <td>A</td>\n",
       "      <td>A</td>\n",
       "      <td>OV</td>\n",
       "      <td>False</td>\n",
       "    </tr>\n",
       "    <tr>\n",
       "      <th>5296</th>\n",
       "      <td>6701</td>\n",
       "      <td>1</td>\n",
       "      <td>14.0</td>\n",
       "      <td>B</td>\n",
       "      <td>A</td>\n",
       "      <td>A</td>\n",
       "      <td>B</td>\n",
       "      <td>BXL</td>\n",
       "      <td>False</td>\n",
       "    </tr>\n",
       "    <tr>\n",
       "      <th>3507</th>\n",
       "      <td>4451</td>\n",
       "      <td>1</td>\n",
       "      <td>32.0</td>\n",
       "      <td>A</td>\n",
       "      <td>B</td>\n",
       "      <td>A</td>\n",
       "      <td>B</td>\n",
       "      <td>BR</td>\n",
       "      <td>False</td>\n",
       "    </tr>\n",
       "    <tr>\n",
       "      <th>5208</th>\n",
       "      <td>6595</td>\n",
       "      <td>2</td>\n",
       "      <td>29.0</td>\n",
       "      <td>B</td>\n",
       "      <td>B</td>\n",
       "      <td>A</td>\n",
       "      <td>B</td>\n",
       "      <td>PA</td>\n",
       "      <td>False</td>\n",
       "    </tr>\n",
       "    <tr>\n",
       "      <th>4455</th>\n",
       "      <td>5644</td>\n",
       "      <td>1</td>\n",
       "      <td>29.0</td>\n",
       "      <td>A</td>\n",
       "      <td>A</td>\n",
       "      <td>A</td>\n",
       "      <td>B</td>\n",
       "      <td>BXL</td>\n",
       "      <td>False</td>\n",
       "    </tr>\n",
       "    <tr>\n",
       "      <th>5548</th>\n",
       "      <td>7002</td>\n",
       "      <td>1</td>\n",
       "      <td>40.0</td>\n",
       "      <td>A</td>\n",
       "      <td>B</td>\n",
       "      <td>A</td>\n",
       "      <td>A</td>\n",
       "      <td>BR</td>\n",
       "      <td>False</td>\n",
       "    </tr>\n",
       "    <tr>\n",
       "      <th>5919</th>\n",
       "      <td>7441</td>\n",
       "      <td>2</td>\n",
       "      <td>25.0</td>\n",
       "      <td>B</td>\n",
       "      <td>C</td>\n",
       "      <td>A</td>\n",
       "      <td>A</td>\n",
       "      <td>DL</td>\n",
       "      <td>False</td>\n",
       "    </tr>\n",
       "    <tr>\n",
       "      <th>5083</th>\n",
       "      <td>6438</td>\n",
       "      <td>1</td>\n",
       "      <td>35.0</td>\n",
       "      <td>A</td>\n",
       "      <td>B</td>\n",
       "      <td>A</td>\n",
       "      <td>A</td>\n",
       "      <td>PA</td>\n",
       "      <td>False</td>\n",
       "    </tr>\n",
       "    <tr>\n",
       "      <th>3929</th>\n",
       "      <td>4954</td>\n",
       "      <td>1</td>\n",
       "      <td>36.0</td>\n",
       "      <td>A</td>\n",
       "      <td>A</td>\n",
       "      <td>A</td>\n",
       "      <td>A</td>\n",
       "      <td>BXL</td>\n",
       "      <td>False</td>\n",
       "    </tr>\n",
       "    <tr>\n",
       "      <th>2285</th>\n",
       "      <td>2866</td>\n",
       "      <td>1</td>\n",
       "      <td>44.0</td>\n",
       "      <td>A</td>\n",
       "      <td>C</td>\n",
       "      <td>A</td>\n",
       "      <td>A</td>\n",
       "      <td>IT</td>\n",
       "      <td>False</td>\n",
       "    </tr>\n",
       "  </tbody>\n",
       "</table>\n",
       "</div>"
      ],
      "text/plain": [
       "        id  count   age sex origin prior family origin_org  assumed_origin\n",
       "3828  4835      1  42.0   A      B     A      A         OV           False\n",
       "5296  6701      1  14.0   B      A     A      B        BXL           False\n",
       "3507  4451      1  32.0   A      B     A      B         BR           False\n",
       "5208  6595      2  29.0   B      B     A      B         PA           False\n",
       "4455  5644      1  29.0   A      A     A      B        BXL           False\n",
       "5548  7002      1  40.0   A      B     A      A         BR           False\n",
       "5919  7441      2  25.0   B      C     A      A         DL           False\n",
       "5083  6438      1  35.0   A      B     A      A         PA           False\n",
       "3929  4954      1  36.0   A      A     A      A        BXL           False\n",
       "2285  2866      1  44.0   A      C     A      A         IT           False"
      ]
     },
     "execution_count": 3,
     "metadata": {},
     "output_type": "execute_result"
    }
   ],
   "source": [
    "encoding = {\n",
    "    \"origin\": {\"BXL\": \"A\", \"BE\": \"B\", \"ABROAD\": \"C\"},\n",
    "    \"family\": {\"no family\": \"A\", \"family\": \"B\"},\n",
    "    \"sex\": {\"male\": \"A\", \"female\": \"B\"},\n",
    "    \"prior\": {\"no prior\": \"A\", \"prior\": \"B\"}\n",
    "}\n",
    "\n",
    "full_recid['origin'] = full_recid['origin'].astype('category').map(encoding[\"origin\"])\n",
    "full_recid['family'] = full_recid['family'].astype('category').map(encoding[\"family\"])\n",
    "full_recid['sex'] = full_recid['sex'].astype('category').map(encoding[\"sex\"])\n",
    "full_recid['prior'] = full_recid['prior'].astype('category').map(encoding[\"prior\"])\n",
    "full_recid.sample(10)"
   ]
  },
  {
   "cell_type": "code",
   "execution_count": 4,
   "id": "09b0471d-4acd-41b4-88cf-ad8439b81dce",
   "metadata": {},
   "outputs": [
    {
     "name": "stdout",
     "output_type": "stream",
     "text": [
      "(6016, 9)\n",
      "(5610, 9)\n"
     ]
    }
   ],
   "source": [
    "print(full_recid.shape)\n",
    "full_recid = full_recid[full_recid[\"assumed_origin\"] == False]\n",
    "print(full_recid.shape)"
   ]
  },
  {
   "cell_type": "markdown",
   "id": "2cc0e939",
   "metadata": {},
   "source": [
    "We limit the dataset to the singletons and doubletons and map the levels to binary labels:"
   ]
  },
  {
   "cell_type": "code",
   "execution_count": 5,
   "id": "80962705-6bb6-47dd-be2f-40d7000c39bb",
   "metadata": {},
   "outputs": [
    {
     "name": "stdout",
     "output_type": "stream",
     "text": [
      "5610\n",
      "5163\n"
     ]
    },
    {
     "data": {
      "text/plain": [
       "y\n",
       "0    4334\n",
       "1     829\n",
       "Name: count, dtype: int64"
      ]
     },
     "execution_count": 5,
     "metadata": {},
     "output_type": "execute_result"
    }
   ],
   "source": [
    "print(len(full_recid))\n",
    "recid = full_recid[full_recid['count'].isin((1, 2))].copy()\n",
    "print(len(recid))\n",
    "\n",
    "recid['y'] = recid['count'].map({1: 0, 2: 1})\n",
    "recid['type'] = recid['y'].map({0: '$f_1$', 1: '$f_2$'})\n",
    "recid['y'].value_counts()"
   ]
  },
  {
   "cell_type": "code",
   "execution_count": 6,
   "id": "98da321e-52c1-4fda-9347-8c23077aa800",
   "metadata": {},
   "outputs": [
    {
     "name": "stderr",
     "output_type": "stream",
     "text": [
      "/usr/local/lib/python3.11/site-packages/seaborn/_oldcore.py:1119: FutureWarning: use_inf_as_na option is deprecated and will be removed in a future version. Convert inf values to NaN before operating instead.\n",
      "  with pd.option_context('mode.use_inf_as_na', True):\n"
     ]
    },
    {
     "data": {
      "text/plain": [
       "<seaborn.axisgrid.FacetGrid at 0x13f0cb350>"
      ]
     },
     "execution_count": 6,
     "metadata": {},
     "output_type": "execute_result"
    },
    {
     "data": {
      "image/png": "[encoded data removed]",
      "text/plain": [
       "<Figure size 500x500 with 1 Axes>"
      ]
     },
     "metadata": {},
     "output_type": "display_data"
    }
   ],
   "source": [
    "age_mean = np.mean(recid[\"age\"])\n",
    "age_std = np.std(recid[\"age\"])\n",
    "\n",
    "recid[\"age\"] = (recid[\"age\"] - age_mean) / age_std\n",
    "recid[\"age2\"] = recid[\"age\"] ** 2\n",
    "recid[\"age3\"] = recid[\"age\"] ** 3\n",
    "sns.displot(recid[\"age\"])"
   ]
  },
  {
   "cell_type": "markdown",
   "id": "730b8943",
   "metadata": {},
   "source": [
    "Doubletons are comparatively scarce, but more common in the female portion of the population:"
   ]
  },
  {
   "cell_type": "code",
   "execution_count": 7,
   "id": "7660fc33",
   "metadata": {},
   "outputs": [],
   "source": [
    "colors = ['#377eb8', '#ff7f00', '#4daf4a',\n",
    "          '#f781bf', '#a65628', '#984ea3',\n",
    "          '#999999', '#e41a1c', '#dede00']\n",
    "\n",
    "color_cycle = cycle(colors)\n",
    "\n",
    "category_colors = {}\n",
    "for c in recid['type'].unique():\n",
    "    category_colors[c] = next(color_cycle)\n",
    "\n",
    "def props(key):\n",
    "    p = {}\n",
    "    bc = category_colors.get(key[1], 'gray')\n",
    "    p['facecolor'] = bc\n",
    "    p['alpha'] = 0.5\n",
    "    p['linewidth'] = 3\n",
    "    return p"
   ]
  },
  {
   "cell_type": "code",
   "execution_count": 8,
   "id": "6fb7bafd",
   "metadata": {
    "tags": []
   },
   "outputs": [
    {
     "data": {
      "image/png": "[encoded data removed]",
      "text/plain": [
       "<Figure size 500x500 with 1 Axes>"
      ]
     },
     "metadata": {},
     "output_type": "display_data"
    }
   ],
   "source": [
    "fig, ax = plt.subplots(figsize=(5, 5))\n",
    "ax.set_aspect('equal')\n",
    "\n",
    "mosaic(data=recid, index=['sex', 'type'], gap=[0.02, 0.02],\n",
    "   properties=props, \n",
    "   axes_label=False, ax=ax)\n",
    "\n",
    "for spine in ax.spines.values():\n",
    "    spine.set_visible(False)\n",
    "\n",
    "plt.savefig('../viz/mosaic_sex.png', dpi=300, transparent=True)"
   ]
  },
  {
   "cell_type": "markdown",
   "id": "06e93d9d",
   "metadata": {},
   "source": [
    "For origin, we can discern a similar trend:"
   ]
  },
  {
   "cell_type": "code",
   "execution_count": 9,
   "id": "greenhouse-closing",
   "metadata": {
    "tags": []
   },
   "outputs": [
    {
     "data": {
      "image/png": "[encoded data removed]",
      "text/plain": [
       "<Figure size 500x500 with 1 Axes>"
      ]
     },
     "metadata": {},
     "output_type": "display_data"
    }
   ],
   "source": [
    "fig, ax = plt.subplots(figsize=(5, 5))\n",
    "ax.set_aspect('equal')\n",
    "\n",
    "mosaic(data=recid, index=['origin', 'type'], gap=[0.02, 0.02],\n",
    "       properties=props, axes_label=False, ax=ax);\n",
    "\n",
    "for spine in ax.spines.values():\n",
    "    spine.set_visible(False)\n",
    "\n",
    "plt.savefig('../viz/mosaic_origin.png', dpi=300, transparent=True)"
   ]
  },
  {
   "cell_type": "markdown",
   "id": "abb65b0c",
   "metadata": {},
   "source": [
    "And for prior arrest, we see something similar:"
   ]
  },
  {
   "cell_type": "code",
   "execution_count": 10,
   "id": "a98ade7a",
   "metadata": {
    "tags": []
   },
   "outputs": [
    {
     "data": {
      "image/png": "[encoded data removed]",
      "text/plain": [
       "<Figure size 500x500 with 1 Axes>"
      ]
     },
     "metadata": {},
     "output_type": "display_data"
    }
   ],
   "source": [
    "fig, ax = plt.subplots(figsize=(5, 5))\n",
    "ax.set_aspect('equal')\n",
    "\n",
    "mosaic(data=recid, index=['prior', 'type'], gap=[0.02, 0.02],\n",
    "       properties=props, axes_label=False, ax=ax);\n",
    "\n",
    "for spine in ax.spines.values():\n",
    "    spine.set_visible(False)\n",
    "\n",
    "plt.savefig('../viz/mosaic_prior.png', dpi=300, transparent=True)"
   ]
  },
  {
   "cell_type": "markdown",
   "id": "d69618a9",
   "metadata": {},
   "source": [
    "## Run models"
   ]
  },
  {
   "cell_type": "code",
   "execution_count": 11,
   "id": "40edb6f5-8bb9-43a9-af89-1dbe7f275505",
   "metadata": {},
   "outputs": [],
   "source": [
    "models, fits = {}, {}"
   ]
  },
  {
   "cell_type": "code",
   "execution_count": 12,
   "id": "491d46c4-72d0-431f-b2f8-cc82de77163d",
   "metadata": {},
   "outputs": [],
   "source": [
    "import re\n",
    "\n",
    "model_strings = [\n",
    "    \"y ~ 1\",  # intercept model,\n",
    "    \"y ~ 1 + age + age2\",  # polynomial age model,    \n",
    "    \"y ~ 1 + sex\",  # test for difference between sexes\n",
    "    \"y ~ 1 + prior\",\n",
    "    \"y ~ 1 + origin\",\n",
    "    \"y ~ 1 + family\",\n",
    "    \"y ~ 1 + sex + age + age2\",\n",
    "    \"y ~ 1 + sex + age + age2 + prior\",    \n",
    "    \"y ~ 1 + sex + age + age2 + prior + origin\",\n",
    "    \"y ~ 1 + sex + age + age2 + prior + origin + family\",        \n",
    "]"
   ]
  },
  {
   "cell_type": "code",
   "execution_count": 13,
   "id": "54cb9c31-6b62-44d0-a216-55536a194bf6",
   "metadata": {
    "scrolled": true
   },
   "outputs": [
    {
     "name": "stderr",
     "output_type": "stream",
     "text": [
      "Modeling the probability that y==1\n"
     ]
    },
    {
     "name": "stdout",
     "output_type": "stream",
     "text": [
      "y ~ 1\n"
     ]
    },
    {
     "data": {
      "application/json": {
       "ascii": false,
       "bar_format": null,
       "colour": null,
       "elapsed": 0.008082866668701172,
       "initial": 0,
       "n": 0,
       "ncols": null,
       "nrows": 35,
       "postfix": null,
       "prefix": "",
       "rate": null,
       "total": 3000,
       "unit": "it",
       "unit_divisor": 1000,
       "unit_scale": false
      },
      "application/vnd.jupyter.widget-view+json": {
       "model_id": "9078d77c9b744327ae4a0802d07947bc",
       "version_major": 2,
       "version_minor": 0
      },
      "text/plain": [
       "  0%|          | 0/3000 [00:00<?, ?it/s]"
      ]
     },
     "metadata": {},
     "output_type": "display_data"
    },
    {
     "data": {
      "application/json": {
       "ascii": false,
       "bar_format": null,
       "colour": null,
       "elapsed": 0.006003379821777344,
       "initial": 0,
       "n": 0,
       "ncols": null,
       "nrows": 35,
       "postfix": null,
       "prefix": "",
       "rate": null,
       "total": 3000,
       "unit": "it",
       "unit_divisor": 1000,
       "unit_scale": false
      },
      "application/vnd.jupyter.widget-view+json": {
       "model_id": "121cc307867d458591e5d356b424f078",
       "version_major": 2,
       "version_minor": 0
      },
      "text/plain": [
       "  0%|          | 0/3000 [00:00<?, ?it/s]"
      ]
     },
     "metadata": {},
     "output_type": "display_data"
    },
    {
     "data": {
      "application/json": {
       "ascii": false,
       "bar_format": null,
       "colour": null,
       "elapsed": 0.007509946823120117,
       "initial": 0,
       "n": 0,
       "ncols": null,
       "nrows": 35,
       "postfix": null,
       "prefix": "",
       "rate": null,
       "total": 3000,
       "unit": "it",
       "unit_divisor": 1000,
       "unit_scale": false
      },
      "application/vnd.jupyter.widget-view+json": {
       "model_id": "d801460b70cc48aeb8f97d8c731422f2",
       "version_major": 2,
       "version_minor": 0
      },
      "text/plain": [
       "  0%|          | 0/3000 [00:00<?, ?it/s]"
      ]
     },
     "metadata": {},
     "output_type": "display_data"
    },
    {
     "data": {
      "application/json": {
       "ascii": false,
       "bar_format": null,
       "colour": null,
       "elapsed": 0.006038665771484375,
       "initial": 0,
       "n": 0,
       "ncols": null,
       "nrows": 35,
       "postfix": null,
       "prefix": "",
       "rate": null,
       "total": 3000,
       "unit": "it",
       "unit_divisor": 1000,
       "unit_scale": false
      },
      "application/vnd.jupyter.widget-view+json": {
       "model_id": "c601f2f315c2429daae78fefb8d1520a",
       "version_major": 2,
       "version_minor": 0
      },
      "text/plain": [
       "  0%|          | 0/3000 [00:00<?, ?it/s]"
      ]
     },
     "metadata": {},
     "output_type": "display_data"
    },
    {
     "name": "stderr",
     "output_type": "stream",
     "text": [
      "Modeling the probability that y==1\n"
     ]
    },
    {
     "name": "stdout",
     "output_type": "stream",
     "text": [
      "y ~ 1 + age + age2\n"
     ]
    },
    {
     "data": {
      "application/json": {
       "ascii": false,
       "bar_format": null,
       "colour": null,
       "elapsed": 0.0051500797271728516,
       "initial": 0,
       "n": 0,
       "ncols": null,
       "nrows": 35,
       "postfix": null,
       "prefix": "",
       "rate": null,
       "total": 3000,
       "unit": "it",
       "unit_divisor": 1000,
       "unit_scale": false
      },
      "application/vnd.jupyter.widget-view+json": {
       "model_id": "5ae4131978364aad9a7526f9eb13a868",
       "version_major": 2,
       "version_minor": 0
      },
      "text/plain": [
       "  0%|          | 0/3000 [00:00<?, ?it/s]"
      ]
     },
     "metadata": {},
     "output_type": "display_data"
    },
    {
     "data": {
      "application/json": {
       "ascii": false,
       "bar_format": null,
       "colour": null,
       "elapsed": 0.006285667419433594,
       "initial": 0,
       "n": 0,
       "ncols": null,
       "nrows": 35,
       "postfix": null,
       "prefix": "",
       "rate": null,
       "total": 3000,
       "unit": "it",
       "unit_divisor": 1000,
       "unit_scale": false
      },
      "application/vnd.jupyter.widget-view+json": {
       "model_id": "7baf8d2c3c49427592aea8e6dfdc2c4f",
       "version_major": 2,
       "version_minor": 0
      },
      "text/plain": [
       "  0%|          | 0/3000 [00:00<?, ?it/s]"
      ]
     },
     "metadata": {},
     "output_type": "display_data"
    },
    {
     "data": {
      "application/json": {
       "ascii": false,
       "bar_format": null,
       "colour": null,
       "elapsed": 0.004753828048706055,
       "initial": 0,
       "n": 0,
       "ncols": null,
       "nrows": 35,
       "postfix": null,
       "prefix": "",
       "rate": null,
       "total": 3000,
       "unit": "it",
       "unit_divisor": 1000,
       "unit_scale": false
      },
      "application/vnd.jupyter.widget-view+json": {
       "model_id": "d511f1caa4d5490da725ab38e9b16aed",
       "version_major": 2,
       "version_minor": 0
      },
      "text/plain": [
       "  0%|          | 0/3000 [00:00<?, ?it/s]"
      ]
     },
     "metadata": {},
     "output_type": "display_data"
    },
    {
     "data": {
      "application/json": {
       "ascii": false,
       "bar_format": null,
       "colour": null,
       "elapsed": 0.006133079528808594,
       "initial": 0,
       "n": 0,
       "ncols": null,
       "nrows": 35,
       "postfix": null,
       "prefix": "",
       "rate": null,
       "total": 3000,
       "unit": "it",
       "unit_divisor": 1000,
       "unit_scale": false
      },
      "application/vnd.jupyter.widget-view+json": {
       "model_id": "5d0f9521c5664043925f277b8a2eb6e9",
       "version_major": 2,
       "version_minor": 0
      },
      "text/plain": [
       "  0%|          | 0/3000 [00:00<?, ?it/s]"
      ]
     },
     "metadata": {},
     "output_type": "display_data"
    },
    {
     "name": "stderr",
     "output_type": "stream",
     "text": [
      "Modeling the probability that y==1\n"
     ]
    },
    {
     "name": "stdout",
     "output_type": "stream",
     "text": [
      "y ~ 1 + sex\n"
     ]
    },
    {
     "data": {
      "application/json": {
       "ascii": false,
       "bar_format": null,
       "colour": null,
       "elapsed": 0.004981040954589844,
       "initial": 0,
       "n": 0,
       "ncols": null,
       "nrows": 35,
       "postfix": null,
       "prefix": "",
       "rate": null,
       "total": 3000,
       "unit": "it",
       "unit_divisor": 1000,
       "unit_scale": false
      },
      "application/vnd.jupyter.widget-view+json": {
       "model_id": "e61fc935b58a4886ab2a83aad126dfea",
       "version_major": 2,
       "version_minor": 0
      },
      "text/plain": [
       "  0%|          | 0/3000 [00:00<?, ?it/s]"
      ]
     },
     "metadata": {},
     "output_type": "display_data"
    },
    {
     "data": {
      "application/json": {
       "ascii": false,
       "bar_format": null,
       "colour": null,
       "elapsed": 0.004759788513183594,
       "initial": 0,
       "n": 0,
       "ncols": null,
       "nrows": 35,
       "postfix": null,
       "prefix": "",
       "rate": null,
       "total": 3000,
       "unit": "it",
       "unit_divisor": 1000,
       "unit_scale": false
      },
      "application/vnd.jupyter.widget-view+json": {
       "model_id": "048db454327d4dc890181465864ffe0f",
       "version_major": 2,
       "version_minor": 0
      },
      "text/plain": [
       "  0%|          | 0/3000 [00:00<?, ?it/s]"
      ]
     },
     "metadata": {},
     "output_type": "display_data"
    },
    {
     "data": {
      "application/json": {
       "ascii": false,
       "bar_format": null,
       "colour": null,
       "elapsed": 0.005144834518432617,
       "initial": 0,
       "n": 0,
       "ncols": null,
       "nrows": 35,
       "postfix": null,
       "prefix": "",
       "rate": null,
       "total": 3000,
       "unit": "it",
       "unit_divisor": 1000,
       "unit_scale": false
      },
      "application/vnd.jupyter.widget-view+json": {
       "model_id": "936ca766d5634ae9b46d5269a8712dd9",
       "version_major": 2,
       "version_minor": 0
      },
      "text/plain": [
       "  0%|          | 0/3000 [00:00<?, ?it/s]"
      ]
     },
     "metadata": {},
     "output_type": "display_data"
    },
    {
     "data": {
      "application/json": {
       "ascii": false,
       "bar_format": null,
       "colour": null,
       "elapsed": 0.0047190189361572266,
       "initial": 0,
       "n": 0,
       "ncols": null,
       "nrows": 35,
       "postfix": null,
       "prefix": "",
       "rate": null,
       "total": 3000,
       "unit": "it",
       "unit_divisor": 1000,
       "unit_scale": false
      },
      "application/vnd.jupyter.widget-view+json": {
       "model_id": "c06c418f3657446fb06b76531e5ae667",
       "version_major": 2,
       "version_minor": 0
      },
      "text/plain": [
       "  0%|          | 0/3000 [00:00<?, ?it/s]"
      ]
     },
     "metadata": {},
     "output_type": "display_data"
    },
    {
     "name": "stderr",
     "output_type": "stream",
     "text": [
      "Modeling the probability that y==1\n"
     ]
    },
    {
     "name": "stdout",
     "output_type": "stream",
     "text": [
      "y ~ 1 + prior\n"
     ]
    },
    {
     "data": {
      "application/json": {
       "ascii": false,
       "bar_format": null,
       "colour": null,
       "elapsed": 0.004892826080322266,
       "initial": 0,
       "n": 0,
       "ncols": null,
       "nrows": 35,
       "postfix": null,
       "prefix": "",
       "rate": null,
       "total": 3000,
       "unit": "it",
       "unit_divisor": 1000,
       "unit_scale": false
      },
      "application/vnd.jupyter.widget-view+json": {
       "model_id": "8248768e9ab34502b985ec27146b3b86",
       "version_major": 2,
       "version_minor": 0
      },
      "text/plain": [
       "  0%|          | 0/3000 [00:00<?, ?it/s]"
      ]
     },
     "metadata": {},
     "output_type": "display_data"
    },
    {
     "data": {
      "application/json": {
       "ascii": false,
       "bar_format": null,
       "colour": null,
       "elapsed": 0.0056383609771728516,
       "initial": 0,
       "n": 0,
       "ncols": null,
       "nrows": 35,
       "postfix": null,
       "prefix": "",
       "rate": null,
       "total": 3000,
       "unit": "it",
       "unit_divisor": 1000,
       "unit_scale": false
      },
      "application/vnd.jupyter.widget-view+json": {
       "model_id": "067cb0ad263d465292fb1c8c68e58306",
       "version_major": 2,
       "version_minor": 0
      },
      "text/plain": [
       "  0%|          | 0/3000 [00:00<?, ?it/s]"
      ]
     },
     "metadata": {},
     "output_type": "display_data"
    },
    {
     "data": {
      "application/json": {
       "ascii": false,
       "bar_format": null,
       "colour": null,
       "elapsed": 0.005303144454956055,
       "initial": 0,
       "n": 0,
       "ncols": null,
       "nrows": 35,
       "postfix": null,
       "prefix": "",
       "rate": null,
       "total": 3000,
       "unit": "it",
       "unit_divisor": 1000,
       "unit_scale": false
      },
      "application/vnd.jupyter.widget-view+json": {
       "model_id": "3113442be9d349d0a566c4fa8b43d095",
       "version_major": 2,
       "version_minor": 0
      },
      "text/plain": [
       "  0%|          | 0/3000 [00:00<?, ?it/s]"
      ]
     },
     "metadata": {},
     "output_type": "display_data"
    },
    {
     "data": {
      "application/json": {
       "ascii": false,
       "bar_format": null,
       "colour": null,
       "elapsed": 0.007589817047119141,
       "initial": 0,
       "n": 0,
       "ncols": null,
       "nrows": 35,
       "postfix": null,
       "prefix": "",
       "rate": null,
       "total": 3000,
       "unit": "it",
       "unit_divisor": 1000,
       "unit_scale": false
      },
      "application/vnd.jupyter.widget-view+json": {
       "model_id": "c7db2c99be394e009384fb18221b64fc",
       "version_major": 2,
       "version_minor": 0
      },
      "text/plain": [
       "  0%|          | 0/3000 [00:00<?, ?it/s]"
      ]
     },
     "metadata": {},
     "output_type": "display_data"
    },
    {
     "name": "stderr",
     "output_type": "stream",
     "text": [
      "Modeling the probability that y==1\n"
     ]
    },
    {
     "name": "stdout",
     "output_type": "stream",
     "text": [
      "y ~ 1 + origin\n"
     ]
    },
    {
     "data": {
      "application/json": {
       "ascii": false,
       "bar_format": null,
       "colour": null,
       "elapsed": 0.005224943161010742,
       "initial": 0,
       "n": 0,
       "ncols": null,
       "nrows": 35,
       "postfix": null,
       "prefix": "",
       "rate": null,
       "total": 3000,
       "unit": "it",
       "unit_divisor": 1000,
       "unit_scale": false
      },
      "application/vnd.jupyter.widget-view+json": {
       "model_id": "f3a06ecb3b324759a5bddac6e9208f2b",
       "version_major": 2,
       "version_minor": 0
      },
      "text/plain": [
       "  0%|          | 0/3000 [00:00<?, ?it/s]"
      ]
     },
     "metadata": {},
     "output_type": "display_data"
    },
    {
     "data": {
      "application/json": {
       "ascii": false,
       "bar_format": null,
       "colour": null,
       "elapsed": 0.005207061767578125,
       "initial": 0,
       "n": 0,
       "ncols": null,
       "nrows": 35,
       "postfix": null,
       "prefix": "",
       "rate": null,
       "total": 3000,
       "unit": "it",
       "unit_divisor": 1000,
       "unit_scale": false
      },
      "application/vnd.jupyter.widget-view+json": {
       "model_id": "a681af24f520431cb8f1c2bec722c966",
       "version_major": 2,
       "version_minor": 0
      },
      "text/plain": [
       "  0%|          | 0/3000 [00:00<?, ?it/s]"
      ]
     },
     "metadata": {},
     "output_type": "display_data"
    },
    {
     "data": {
      "application/json": {
       "ascii": false,
       "bar_format": null,
       "colour": null,
       "elapsed": 0.005059003829956055,
       "initial": 0,
       "n": 0,
       "ncols": null,
       "nrows": 35,
       "postfix": null,
       "prefix": "",
       "rate": null,
       "total": 3000,
       "unit": "it",
       "unit_divisor": 1000,
       "unit_scale": false
      },
      "application/vnd.jupyter.widget-view+json": {
       "model_id": "1e1c54641d224ae1bc997667dd8d284b",
       "version_major": 2,
       "version_minor": 0
      },
      "text/plain": [
       "  0%|          | 0/3000 [00:00<?, ?it/s]"
      ]
     },
     "metadata": {},
     "output_type": "display_data"
    },
    {
     "data": {
      "application/json": {
       "ascii": false,
       "bar_format": null,
       "colour": null,
       "elapsed": 0.005296945571899414,
       "initial": 0,
       "n": 0,
       "ncols": null,
       "nrows": 35,
       "postfix": null,
       "prefix": "",
       "rate": null,
       "total": 3000,
       "unit": "it",
       "unit_divisor": 1000,
       "unit_scale": false
      },
      "application/vnd.jupyter.widget-view+json": {
       "model_id": "0fa6d49344024164b16643002c422bf6",
       "version_major": 2,
       "version_minor": 0
      },
      "text/plain": [
       "  0%|          | 0/3000 [00:00<?, ?it/s]"
      ]
     },
     "metadata": {},
     "output_type": "display_data"
    },
    {
     "name": "stderr",
     "output_type": "stream",
     "text": [
      "Modeling the probability that y==1\n"
     ]
    },
    {
     "name": "stdout",
     "output_type": "stream",
     "text": [
      "y ~ 1 + family\n"
     ]
    },
    {
     "data": {
      "application/json": {
       "ascii": false,
       "bar_format": null,
       "colour": null,
       "elapsed": 0.0068552494049072266,
       "initial": 0,
       "n": 0,
       "ncols": null,
       "nrows": 35,
       "postfix": null,
       "prefix": "",
       "rate": null,
       "total": 3000,
       "unit": "it",
       "unit_divisor": 1000,
       "unit_scale": false
      },
      "application/vnd.jupyter.widget-view+json": {
       "model_id": "875a8e7b299b4ea6a6d75160e717098e",
       "version_major": 2,
       "version_minor": 0
      },
      "text/plain": [
       "  0%|          | 0/3000 [00:00<?, ?it/s]"
      ]
     },
     "metadata": {},
     "output_type": "display_data"
    },
    {
     "data": {
      "application/json": {
       "ascii": false,
       "bar_format": null,
       "colour": null,
       "elapsed": 0.0074808597564697266,
       "initial": 0,
       "n": 0,
       "ncols": null,
       "nrows": 35,
       "postfix": null,
       "prefix": "",
       "rate": null,
       "total": 3000,
       "unit": "it",
       "unit_divisor": 1000,
       "unit_scale": false
      },
      "application/vnd.jupyter.widget-view+json": {
       "model_id": "6fa5ff0d11c34b45a6538ff6c73ff41c",
       "version_major": 2,
       "version_minor": 0
      },
      "text/plain": [
       "  0%|          | 0/3000 [00:00<?, ?it/s]"
      ]
     },
     "metadata": {},
     "output_type": "display_data"
    },
    {
     "data": {
      "application/json": {
       "ascii": false,
       "bar_format": null,
       "colour": null,
       "elapsed": 0.0073430538177490234,
       "initial": 0,
       "n": 0,
       "ncols": null,
       "nrows": 35,
       "postfix": null,
       "prefix": "",
       "rate": null,
       "total": 3000,
       "unit": "it",
       "unit_divisor": 1000,
       "unit_scale": false
      },
      "application/vnd.jupyter.widget-view+json": {
       "model_id": "b3cfa2d3cd6d4ff8804f6d29f425a490",
       "version_major": 2,
       "version_minor": 0
      },
      "text/plain": [
       "  0%|          | 0/3000 [00:00<?, ?it/s]"
      ]
     },
     "metadata": {},
     "output_type": "display_data"
    },
    {
     "data": {
      "application/json": {
       "ascii": false,
       "bar_format": null,
       "colour": null,
       "elapsed": 0.006779193878173828,
       "initial": 0,
       "n": 0,
       "ncols": null,
       "nrows": 35,
       "postfix": null,
       "prefix": "",
       "rate": null,
       "total": 3000,
       "unit": "it",
       "unit_divisor": 1000,
       "unit_scale": false
      },
      "application/vnd.jupyter.widget-view+json": {
       "model_id": "70cd829c7f304856aa3f50e3e65bc62d",
       "version_major": 2,
       "version_minor": 0
      },
      "text/plain": [
       "  0%|          | 0/3000 [00:00<?, ?it/s]"
      ]
     },
     "metadata": {},
     "output_type": "display_data"
    },
    {
     "name": "stderr",
     "output_type": "stream",
     "text": [
      "Modeling the probability that y==1\n"
     ]
    },
    {
     "name": "stdout",
     "output_type": "stream",
     "text": [
      "y ~ 1 + sex + age + age2\n"
     ]
    },
    {
     "data": {
      "application/json": {
       "ascii": false,
       "bar_format": null,
       "colour": null,
       "elapsed": 0.004904985427856445,
       "initial": 0,
       "n": 0,
       "ncols": null,
       "nrows": 35,
       "postfix": null,
       "prefix": "",
       "rate": null,
       "total": 3000,
       "unit": "it",
       "unit_divisor": 1000,
       "unit_scale": false
      },
      "application/vnd.jupyter.widget-view+json": {
       "model_id": "a85b348189fd4460bd96452a314ce1f5",
       "version_major": 2,
       "version_minor": 0
      },
      "text/plain": [
       "  0%|          | 0/3000 [00:00<?, ?it/s]"
      ]
     },
     "metadata": {},
     "output_type": "display_data"
    },
    {
     "data": {
      "application/json": {
       "ascii": false,
       "bar_format": null,
       "colour": null,
       "elapsed": 0.004927873611450195,
       "initial": 0,
       "n": 0,
       "ncols": null,
       "nrows": 35,
       "postfix": null,
       "prefix": "",
       "rate": null,
       "total": 3000,
       "unit": "it",
       "unit_divisor": 1000,
       "unit_scale": false
      },
      "application/vnd.jupyter.widget-view+json": {
       "model_id": "6fc3ab1730104bbaaf2695cfd1d4df9c",
       "version_major": 2,
       "version_minor": 0
      },
      "text/plain": [
       "  0%|          | 0/3000 [00:00<?, ?it/s]"
      ]
     },
     "metadata": {},
     "output_type": "display_data"
    },
    {
     "data": {
      "application/json": {
       "ascii": false,
       "bar_format": null,
       "colour": null,
       "elapsed": 0.006474971771240234,
       "initial": 0,
       "n": 0,
       "ncols": null,
       "nrows": 35,
       "postfix": null,
       "prefix": "",
       "rate": null,
       "total": 3000,
       "unit": "it",
       "unit_divisor": 1000,
       "unit_scale": false
      },
      "application/vnd.jupyter.widget-view+json": {
       "model_id": "172be0835bea4aa3afe6b36c5e61dbc0",
       "version_major": 2,
       "version_minor": 0
      },
      "text/plain": [
       "  0%|          | 0/3000 [00:00<?, ?it/s]"
      ]
     },
     "metadata": {},
     "output_type": "display_data"
    },
    {
     "data": {
      "application/json": {
       "ascii": false,
       "bar_format": null,
       "colour": null,
       "elapsed": 0.005289316177368164,
       "initial": 0,
       "n": 0,
       "ncols": null,
       "nrows": 35,
       "postfix": null,
       "prefix": "",
       "rate": null,
       "total": 3000,
       "unit": "it",
       "unit_divisor": 1000,
       "unit_scale": false
      },
      "application/vnd.jupyter.widget-view+json": {
       "model_id": "f6259a1dd8534c8283f7b2d0cbb243c6",
       "version_major": 2,
       "version_minor": 0
      },
      "text/plain": [
       "  0%|          | 0/3000 [00:00<?, ?it/s]"
      ]
     },
     "metadata": {},
     "output_type": "display_data"
    },
    {
     "name": "stderr",
     "output_type": "stream",
     "text": [
      "Modeling the probability that y==1\n"
     ]
    },
    {
     "name": "stdout",
     "output_type": "stream",
     "text": [
      "y ~ 1 + sex + age + age2 + prior\n"
     ]
    },
    {
     "data": {
      "application/json": {
       "ascii": false,
       "bar_format": null,
       "colour": null,
       "elapsed": 0.005484104156494141,
       "initial": 0,
       "n": 0,
       "ncols": null,
       "nrows": 35,
       "postfix": null,
       "prefix": "",
       "rate": null,
       "total": 3000,
       "unit": "it",
       "unit_divisor": 1000,
       "unit_scale": false
      },
      "application/vnd.jupyter.widget-view+json": {
       "model_id": "9447cf0f8a68436a8de8d7b7d5c1d8a6",
       "version_major": 2,
       "version_minor": 0
      },
      "text/plain": [
       "  0%|          | 0/3000 [00:00<?, ?it/s]"
      ]
     },
     "metadata": {},
     "output_type": "display_data"
    },
    {
     "data": {
      "application/json": {
       "ascii": false,
       "bar_format": null,
       "colour": null,
       "elapsed": 0.00536799430847168,
       "initial": 0,
       "n": 0,
       "ncols": null,
       "nrows": 35,
       "postfix": null,
       "prefix": "",
       "rate": null,
       "total": 3000,
       "unit": "it",
       "unit_divisor": 1000,
       "unit_scale": false
      },
      "application/vnd.jupyter.widget-view+json": {
       "model_id": "e3ee47f7936f425aa0f9ddf3bf8be6e8",
       "version_major": 2,
       "version_minor": 0
      },
      "text/plain": [
       "  0%|          | 0/3000 [00:00<?, ?it/s]"
      ]
     },
     "metadata": {},
     "output_type": "display_data"
    },
    {
     "data": {
      "application/json": {
       "ascii": false,
       "bar_format": null,
       "colour": null,
       "elapsed": 0.004891872406005859,
       "initial": 0,
       "n": 0,
       "ncols": null,
       "nrows": 35,
       "postfix": null,
       "prefix": "",
       "rate": null,
       "total": 3000,
       "unit": "it",
       "unit_divisor": 1000,
       "unit_scale": false
      },
      "application/vnd.jupyter.widget-view+json": {
       "model_id": "b0c23bd87f2a4665a96a5b7b2f2fec6e",
       "version_major": 2,
       "version_minor": 0
      },
      "text/plain": [
       "  0%|          | 0/3000 [00:00<?, ?it/s]"
      ]
     },
     "metadata": {},
     "output_type": "display_data"
    },
    {
     "data": {
      "application/json": {
       "ascii": false,
       "bar_format": null,
       "colour": null,
       "elapsed": 0.004914760589599609,
       "initial": 0,
       "n": 0,
       "ncols": null,
       "nrows": 35,
       "postfix": null,
       "prefix": "",
       "rate": null,
       "total": 3000,
       "unit": "it",
       "unit_divisor": 1000,
       "unit_scale": false
      },
      "application/vnd.jupyter.widget-view+json": {
       "model_id": "2b880d5fd30249d7a2f0967eff220acd",
       "version_major": 2,
       "version_minor": 0
      },
      "text/plain": [
       "  0%|          | 0/3000 [00:00<?, ?it/s]"
      ]
     },
     "metadata": {},
     "output_type": "display_data"
    },
    {
     "name": "stderr",
     "output_type": "stream",
     "text": [
      "Modeling the probability that y==1\n"
     ]
    },
    {
     "name": "stdout",
     "output_type": "stream",
     "text": [
      "y ~ 1 + sex + age + age2 + prior + origin\n"
     ]
    },
    {
     "data": {
      "application/json": {
       "ascii": false,
       "bar_format": null,
       "colour": null,
       "elapsed": 0.00558018684387207,
       "initial": 0,
       "n": 0,
       "ncols": null,
       "nrows": 35,
       "postfix": null,
       "prefix": "",
       "rate": null,
       "total": 3000,
       "unit": "it",
       "unit_divisor": 1000,
       "unit_scale": false
      },
      "application/vnd.jupyter.widget-view+json": {
       "model_id": "5db8e7820fd84dfd834576b711ba8166",
       "version_major": 2,
       "version_minor": 0
      },
      "text/plain": [
       "  0%|          | 0/3000 [00:00<?, ?it/s]"
      ]
     },
     "metadata": {},
     "output_type": "display_data"
    },
    {
     "data": {
      "application/json": {
       "ascii": false,
       "bar_format": null,
       "colour": null,
       "elapsed": 0.005349874496459961,
       "initial": 0,
       "n": 0,
       "ncols": null,
       "nrows": 35,
       "postfix": null,
       "prefix": "",
       "rate": null,
       "total": 3000,
       "unit": "it",
       "unit_divisor": 1000,
       "unit_scale": false
      },
      "application/vnd.jupyter.widget-view+json": {
       "model_id": "01915ce4d71a49c1a2427ce40f4f8c6e",
       "version_major": 2,
       "version_minor": 0
      },
      "text/plain": [
       "  0%|          | 0/3000 [00:00<?, ?it/s]"
      ]
     },
     "metadata": {},
     "output_type": "display_data"
    },
    {
     "data": {
      "application/json": {
       "ascii": false,
       "bar_format": null,
       "colour": null,
       "elapsed": 0.0055751800537109375,
       "initial": 0,
       "n": 0,
       "ncols": null,
       "nrows": 35,
       "postfix": null,
       "prefix": "",
       "rate": null,
       "total": 3000,
       "unit": "it",
       "unit_divisor": 1000,
       "unit_scale": false
      },
      "application/vnd.jupyter.widget-view+json": {
       "model_id": "568d4f9a36004ac58f353f19605da9ea",
       "version_major": 2,
       "version_minor": 0
      },
      "text/plain": [
       "  0%|          | 0/3000 [00:00<?, ?it/s]"
      ]
     },
     "metadata": {},
     "output_type": "display_data"
    },
    {
     "data": {
      "application/json": {
       "ascii": false,
       "bar_format": null,
       "colour": null,
       "elapsed": 0.005224943161010742,
       "initial": 0,
       "n": 0,
       "ncols": null,
       "nrows": 35,
       "postfix": null,
       "prefix": "",
       "rate": null,
       "total": 3000,
       "unit": "it",
       "unit_divisor": 1000,
       "unit_scale": false
      },
      "application/vnd.jupyter.widget-view+json": {
       "model_id": "1787763dd320421c8d23f2b72da5a236",
       "version_major": 2,
       "version_minor": 0
      },
      "text/plain": [
       "  0%|          | 0/3000 [00:00<?, ?it/s]"
      ]
     },
     "metadata": {},
     "output_type": "display_data"
    },
    {
     "name": "stderr",
     "output_type": "stream",
     "text": [
      "Modeling the probability that y==1\n"
     ]
    },
    {
     "name": "stdout",
     "output_type": "stream",
     "text": [
      "y ~ 1 + sex + age + age2 + prior + origin + family\n"
     ]
    },
    {
     "data": {
      "application/json": {
       "ascii": false,
       "bar_format": null,
       "colour": null,
       "elapsed": 0.005511760711669922,
       "initial": 0,
       "n": 0,
       "ncols": null,
       "nrows": 35,
       "postfix": null,
       "prefix": "",
       "rate": null,
       "total": 3000,
       "unit": "it",
       "unit_divisor": 1000,
       "unit_scale": false
      },
      "application/vnd.jupyter.widget-view+json": {
       "model_id": "1b285f70bd8d46c89c1ec3274d8c0d6a",
       "version_major": 2,
       "version_minor": 0
      },
      "text/plain": [
       "  0%|          | 0/3000 [00:00<?, ?it/s]"
      ]
     },
     "metadata": {},
     "output_type": "display_data"
    },
    {
     "data": {
      "application/json": {
       "ascii": false,
       "bar_format": null,
       "colour": null,
       "elapsed": 0.004848957061767578,
       "initial": 0,
       "n": 0,
       "ncols": null,
       "nrows": 35,
       "postfix": null,
       "prefix": "",
       "rate": null,
       "total": 3000,
       "unit": "it",
       "unit_divisor": 1000,
       "unit_scale": false
      },
      "application/vnd.jupyter.widget-view+json": {
       "model_id": "df5d501e86b9434080d71fc46db2637e",
       "version_major": 2,
       "version_minor": 0
      },
      "text/plain": [
       "  0%|          | 0/3000 [00:00<?, ?it/s]"
      ]
     },
     "metadata": {},
     "output_type": "display_data"
    },
    {
     "data": {
      "application/json": {
       "ascii": false,
       "bar_format": null,
       "colour": null,
       "elapsed": 0.005148887634277344,
       "initial": 0,
       "n": 0,
       "ncols": null,
       "nrows": 35,
       "postfix": null,
       "prefix": "",
       "rate": null,
       "total": 3000,
       "unit": "it",
       "unit_divisor": 1000,
       "unit_scale": false
      },
      "application/vnd.jupyter.widget-view+json": {
       "model_id": "9f446134b99b44b79023d77fb96039b1",
       "version_major": 2,
       "version_minor": 0
      },
      "text/plain": [
       "  0%|          | 0/3000 [00:00<?, ?it/s]"
      ]
     },
     "metadata": {},
     "output_type": "display_data"
    },
    {
     "data": {
      "application/json": {
       "ascii": false,
       "bar_format": null,
       "colour": null,
       "elapsed": 0.004630088806152344,
       "initial": 0,
       "n": 0,
       "ncols": null,
       "nrows": 35,
       "postfix": null,
       "prefix": "",
       "rate": null,
       "total": 3000,
       "unit": "it",
       "unit_divisor": 1000,
       "unit_scale": false
      },
      "application/vnd.jupyter.widget-view+json": {
       "model_id": "bfde35978bea4ee7b98f868f9c33a817",
       "version_major": 2,
       "version_minor": 0
      },
      "text/plain": [
       "  0%|          | 0/3000 [00:00<?, ?it/s]"
      ]
     },
     "metadata": {},
     "output_type": "display_data"
    }
   ],
   "source": [
    "for model_string in model_strings:\n",
    "    models[model_string] = bmb.Model(model_string, recid, family='bernoulli')\n",
    "    print(model_string)\n",
    "    fits[model_string] = models[model_string].fit(\n",
    "        draws=2000, chains=4, inference_method='nuts_numpyro', idata_kwargs={'log_likelihood': True})"
   ]
  },
  {
   "cell_type": "code",
   "execution_count": 14,
   "id": "bc8579ca-def5-49be-990b-e44583ed67bf",
   "metadata": {
    "tags": []
   },
   "outputs": [
    {
     "name": "stdout",
     "output_type": "stream",
     "text": [
      "================================================================================\n",
      "y ~ 1\n",
      "            mean     sd  hdi_3%  hdi_97%  mcse_mean  mcse_sd  ess_bulk  \\\n",
      "Intercept -1.654  0.038  -1.726   -1.582      0.001      0.0    2935.0   \n",
      "\n",
      "           ess_tail  r_hat  \n",
      "Intercept    3816.0    1.0  \n",
      "\n",
      "================================================================================\n",
      "y ~ 1 + age + age2\n",
      "            mean     sd  hdi_3%  hdi_97%  mcse_mean  mcse_sd  ess_bulk  \\\n",
      "Intercept -1.549  0.048  -1.643   -1.464      0.001      0.0    7618.0   \n",
      "age        0.125  0.043   0.046    0.209      0.001      0.0    6027.0   \n",
      "age2      -0.114  0.035  -0.181   -0.050      0.000      0.0    6175.0   \n",
      "\n",
      "           ess_tail  r_hat  \n",
      "Intercept    5885.0    1.0  \n",
      "age          5854.0    1.0  \n",
      "age2         5895.0    1.0  \n",
      "\n",
      "================================================================================\n",
      "y ~ 1 + sex\n",
      "           mean     sd  hdi_3%  hdi_97%  mcse_mean  mcse_sd  ess_bulk  \\\n",
      "Intercept -1.71  0.042  -1.788   -1.631      0.001    0.000    5605.0   \n",
      "sex[B]     0.32  0.096   0.143    0.501      0.001    0.001    6223.0   \n",
      "\n",
      "           ess_tail  r_hat  \n",
      "Intercept    4944.0    1.0  \n",
      "sex[B]       4724.0    1.0  \n",
      "\n",
      "================================================================================\n",
      "y ~ 1 + prior\n",
      "            mean     sd  hdi_3%  hdi_97%  mcse_mean  mcse_sd  ess_bulk  \\\n",
      "Intercept -1.725  0.041  -1.801   -1.649      0.001    0.000    5968.0   \n",
      "prior[B]   0.657  0.114   0.437    0.864      0.001    0.001    6219.0   \n",
      "\n",
      "           ess_tail  r_hat  \n",
      "Intercept    5137.0    1.0  \n",
      "prior[B]     5134.0    1.0  \n",
      "\n",
      "================================================================================\n",
      "y ~ 1 + origin\n",
      "            mean     sd  hdi_3%  hdi_97%  mcse_mean  mcse_sd  ess_bulk  \\\n",
      "Intercept -1.554  0.054  -1.655   -1.453      0.001    0.000    7032.0   \n",
      "origin[B] -0.121  0.080  -0.273    0.027      0.001    0.001    6413.0   \n",
      "origin[C] -0.431  0.129  -0.680   -0.196      0.002    0.001    6374.0   \n",
      "\n",
      "           ess_tail  r_hat  \n",
      "Intercept    5931.0    1.0  \n",
      "origin[B]    5727.0    1.0  \n",
      "origin[C]    5693.0    1.0  \n",
      "\n",
      "================================================================================\n",
      "y ~ 1 + family\n",
      "            mean     sd  hdi_3%  hdi_97%  mcse_mean  mcse_sd  ess_bulk  \\\n",
      "Intercept -1.761  0.051  -1.854   -1.665      0.001    0.000    6460.0   \n",
      "family[B]  0.241  0.076   0.099    0.385      0.001    0.001    6759.0   \n",
      "\n",
      "           ess_tail  r_hat  \n",
      "Intercept    5223.0    1.0  \n",
      "family[B]    5449.0    1.0  \n",
      "\n",
      "================================================================================\n",
      "y ~ 1 + sex + age + age2\n",
      "            mean     sd  hdi_3%  hdi_97%  mcse_mean  mcse_sd  ess_bulk  \\\n",
      "Intercept -1.600  0.051  -1.695   -1.502      0.001    0.000    8558.0   \n",
      "sex[B]     0.353  0.097   0.171    0.539      0.001    0.001    7843.0   \n",
      "age        0.128  0.043   0.048    0.211      0.001    0.000    7085.0   \n",
      "age2      -0.126  0.036  -0.191   -0.058      0.000    0.000    7355.0   \n",
      "\n",
      "           ess_tail  r_hat  \n",
      "Intercept    6713.0    1.0  \n",
      "sex[B]       6023.0    1.0  \n",
      "age          5738.0    1.0  \n",
      "age2         6053.0    1.0  \n",
      "\n",
      "================================================================================\n",
      "y ~ 1 + sex + age + age2 + prior\n",
      "            mean     sd  hdi_3%  hdi_97%  mcse_mean  mcse_sd  ess_bulk  \\\n",
      "Intercept -1.685  0.054  -1.788   -1.585      0.001    0.000    9028.0   \n",
      "sex[B]     0.404  0.100   0.217    0.592      0.001    0.001    8942.0   \n",
      "age        0.117  0.043   0.035    0.198      0.000    0.000    7949.0   \n",
      "age2      -0.124  0.036  -0.189   -0.056      0.000    0.000    7560.0   \n",
      "prior[B]   0.684  0.116   0.466    0.902      0.001    0.001    9366.0   \n",
      "\n",
      "           ess_tail  r_hat  \n",
      "Intercept    6810.0    1.0  \n",
      "sex[B]       5976.0    1.0  \n",
      "age          6021.0    1.0  \n",
      "age2         6067.0    1.0  \n",
      "prior[B]     6520.0    1.0  \n",
      "\n",
      "================================================================================\n",
      "y ~ 1 + sex + age + age2 + prior + origin\n",
      "            mean     sd  hdi_3%  hdi_97%  mcse_mean  mcse_sd  ess_bulk  \\\n",
      "Intercept -1.550  0.069  -1.683   -1.425      0.001    0.000   11111.0   \n",
      "sex[B]     0.444  0.101   0.251    0.631      0.001    0.001   11294.0   \n",
      "age        0.120  0.044   0.039    0.203      0.000    0.000   11579.0   \n",
      "age2      -0.133  0.037  -0.202   -0.064      0.000    0.000   11318.0   \n",
      "prior[B]   0.676  0.117   0.462    0.899      0.001    0.001   12741.0   \n",
      "origin[B] -0.187  0.082  -0.343   -0.034      0.001    0.001   10197.0   \n",
      "origin[C] -0.471  0.129  -0.713   -0.228      0.001    0.001   10707.0   \n",
      "\n",
      "           ess_tail  r_hat  \n",
      "Intercept    6117.0    1.0  \n",
      "sex[B]       6076.0    1.0  \n",
      "age          6213.0    1.0  \n",
      "age2         6739.0    1.0  \n",
      "prior[B]     6688.0    1.0  \n",
      "origin[B]    6454.0    1.0  \n",
      "origin[C]    5878.0    1.0  \n",
      "\n",
      "================================================================================\n",
      "y ~ 1 + sex + age + age2 + prior + origin + family\n",
      "            mean     sd  hdi_3%  hdi_97%  mcse_mean  mcse_sd  ess_bulk  \\\n",
      "Intercept -1.643  0.078  -1.790   -1.497      0.001    0.001   11836.0   \n",
      "sex[B]     0.439  0.099   0.246    0.616      0.001    0.001   12171.0   \n",
      "age        0.122  0.044   0.041    0.204      0.000    0.000   10704.0   \n",
      "age2      -0.135  0.036  -0.207   -0.070      0.000    0.000   10414.0   \n",
      "prior[B]   0.668  0.116   0.452    0.884      0.001    0.001   12683.0   \n",
      "origin[B] -0.176  0.081  -0.330   -0.028      0.001    0.001   11238.0   \n",
      "origin[C] -0.420  0.131  -0.658   -0.171      0.001    0.001   11099.0   \n",
      "family[B]  0.197  0.079   0.044    0.345      0.001    0.001   12006.0   \n",
      "\n",
      "           ess_tail  r_hat  \n",
      "Intercept    6580.0    1.0  \n",
      "sex[B]       6188.0    1.0  \n",
      "age          6198.0    1.0  \n",
      "age2         6251.0    1.0  \n",
      "prior[B]     6116.0    1.0  \n",
      "origin[B]    6275.0    1.0  \n",
      "origin[C]    6319.0    1.0  \n",
      "family[B]    6444.0    1.0  \n",
      "\n"
     ]
    }
   ],
   "source": [
    "for model_string, fit in fits.items():\n",
    "    print(\"=\" * 80)\n",
    "    print(model_string)\n",
    "    print(az.summary(fit))\n",
    "    print()"
   ]
  },
  {
   "cell_type": "code",
   "execution_count": 15,
   "id": "ebd75fd7",
   "metadata": {
    "tags": []
   },
   "outputs": [],
   "source": [
    "loo_compare = az.compare({model: fits[model] for model in fits}, ic='loo')"
   ]
  },
  {
   "cell_type": "code",
   "execution_count": 16,
   "id": "aa268035-04d1-4b56-9a2d-c129997bf7d9",
   "metadata": {},
   "outputs": [
    {
     "data": {
      "text/html": [
       "<div>\n",
       "<style scoped>\n",
       "    .dataframe tbody tr th:only-of-type {\n",
       "        vertical-align: middle;\n",
       "    }\n",
       "\n",
       "    .dataframe tbody tr th {\n",
       "        vertical-align: top;\n",
       "    }\n",
       "\n",
       "    .dataframe thead th {\n",
       "        text-align: right;\n",
       "    }\n",
       "</style>\n",
       "<table border=\"1\" class=\"dataframe\">\n",
       "  <thead>\n",
       "    <tr style=\"text-align: right;\">\n",
       "      <th></th>\n",
       "      <th>rank</th>\n",
       "      <th>elpd_loo</th>\n",
       "      <th>p_loo</th>\n",
       "      <th>elpd_diff</th>\n",
       "      <th>weight</th>\n",
       "      <th>se</th>\n",
       "      <th>dse</th>\n",
       "      <th>warning</th>\n",
       "      <th>scale</th>\n",
       "    </tr>\n",
       "  </thead>\n",
       "  <tbody>\n",
       "    <tr>\n",
       "      <th>y ~ 1 + sex + age + age2 + prior + origin + family</th>\n",
       "      <td>0</td>\n",
       "      <td>-2242.041</td>\n",
       "      <td>7.948</td>\n",
       "      <td>0.000</td>\n",
       "      <td>0.843</td>\n",
       "      <td>43.801</td>\n",
       "      <td>0.000</td>\n",
       "      <td>False</td>\n",
       "      <td>log</td>\n",
       "    </tr>\n",
       "    <tr>\n",
       "      <th>y ~ 1 + sex + age + age2 + prior + origin</th>\n",
       "      <td>1</td>\n",
       "      <td>-2244.361</td>\n",
       "      <td>7.081</td>\n",
       "      <td>2.320</td>\n",
       "      <td>0.007</td>\n",
       "      <td>43.788</td>\n",
       "      <td>2.525</td>\n",
       "      <td>False</td>\n",
       "      <td>log</td>\n",
       "    </tr>\n",
       "    <tr>\n",
       "      <th>y ~ 1 + sex + age + age2 + prior</th>\n",
       "      <td>2</td>\n",
       "      <td>-2249.951</td>\n",
       "      <td>5.029</td>\n",
       "      <td>7.910</td>\n",
       "      <td>0.029</td>\n",
       "      <td>43.769</td>\n",
       "      <td>4.717</td>\n",
       "      <td>False</td>\n",
       "      <td>log</td>\n",
       "    </tr>\n",
       "    <tr>\n",
       "      <th>y ~ 1 + prior</th>\n",
       "      <td>3</td>\n",
       "      <td>-2261.635</td>\n",
       "      <td>1.983</td>\n",
       "      <td>19.594</td>\n",
       "      <td>0.047</td>\n",
       "      <td>43.666</td>\n",
       "      <td>7.199</td>\n",
       "      <td>False</td>\n",
       "      <td>log</td>\n",
       "    </tr>\n",
       "    <tr>\n",
       "      <th>y ~ 1 + sex + age + age2</th>\n",
       "      <td>4</td>\n",
       "      <td>-2265.155</td>\n",
       "      <td>4.027</td>\n",
       "      <td>23.114</td>\n",
       "      <td>0.000</td>\n",
       "      <td>43.710</td>\n",
       "      <td>7.591</td>\n",
       "      <td>False</td>\n",
       "      <td>log</td>\n",
       "    </tr>\n",
       "    <tr>\n",
       "      <th>y ~ 1 + age + age2</th>\n",
       "      <td>5</td>\n",
       "      <td>-2270.421</td>\n",
       "      <td>2.957</td>\n",
       "      <td>28.379</td>\n",
       "      <td>0.000</td>\n",
       "      <td>43.684</td>\n",
       "      <td>8.303</td>\n",
       "      <td>False</td>\n",
       "      <td>log</td>\n",
       "    </tr>\n",
       "    <tr>\n",
       "      <th>y ~ 1 + sex</th>\n",
       "      <td>6</td>\n",
       "      <td>-2271.474</td>\n",
       "      <td>1.980</td>\n",
       "      <td>29.433</td>\n",
       "      <td>0.050</td>\n",
       "      <td>43.658</td>\n",
       "      <td>8.759</td>\n",
       "      <td>False</td>\n",
       "      <td>log</td>\n",
       "    </tr>\n",
       "    <tr>\n",
       "      <th>y ~ 1 + family</th>\n",
       "      <td>7</td>\n",
       "      <td>-2271.748</td>\n",
       "      <td>1.944</td>\n",
       "      <td>29.706</td>\n",
       "      <td>0.023</td>\n",
       "      <td>43.672</td>\n",
       "      <td>8.744</td>\n",
       "      <td>False</td>\n",
       "      <td>log</td>\n",
       "    </tr>\n",
       "    <tr>\n",
       "      <th>y ~ 1 + origin</th>\n",
       "      <td>8</td>\n",
       "      <td>-2271.789</td>\n",
       "      <td>2.994</td>\n",
       "      <td>29.748</td>\n",
       "      <td>0.000</td>\n",
       "      <td>43.686</td>\n",
       "      <td>8.637</td>\n",
       "      <td>False</td>\n",
       "      <td>log</td>\n",
       "    </tr>\n",
       "    <tr>\n",
       "      <th>y ~ 1</th>\n",
       "      <td>9</td>\n",
       "      <td>-2275.857</td>\n",
       "      <td>1.006</td>\n",
       "      <td>33.816</td>\n",
       "      <td>0.000</td>\n",
       "      <td>43.637</td>\n",
       "      <td>9.308</td>\n",
       "      <td>False</td>\n",
       "      <td>log</td>\n",
       "    </tr>\n",
       "  </tbody>\n",
       "</table>\n",
       "</div>"
      ],
      "text/plain": [
       "                                                    rank  elpd_loo  p_loo  \\\n",
       "y ~ 1 + sex + age + age2 + prior + origin + family     0 -2242.041  7.948   \n",
       "y ~ 1 + sex + age + age2 + prior + origin              1 -2244.361  7.081   \n",
       "y ~ 1 + sex + age + age2 + prior                       2 -2249.951  5.029   \n",
       "y ~ 1 + prior                                          3 -2261.635  1.983   \n",
       "y ~ 1 + sex + age + age2                               4 -2265.155  4.027   \n",
       "y ~ 1 + age + age2                                     5 -2270.421  2.957   \n",
       "y ~ 1 + sex                                            6 -2271.474  1.980   \n",
       "y ~ 1 + family                                         7 -2271.748  1.944   \n",
       "y ~ 1 + origin                                         8 -2271.789  2.994   \n",
       "y ~ 1                                                  9 -2275.857  1.006   \n",
       "\n",
       "                                                    elpd_diff  weight      se  \\\n",
       "y ~ 1 + sex + age + age2 + prior + origin + family      0.000   0.843  43.801   \n",
       "y ~ 1 + sex + age + age2 + prior + origin               2.320   0.007  43.788   \n",
       "y ~ 1 + sex + age + age2 + prior                        7.910   0.029  43.769   \n",
       "y ~ 1 + prior                                          19.594   0.047  43.666   \n",
       "y ~ 1 + sex + age + age2                               23.114   0.000  43.710   \n",
       "y ~ 1 + age + age2                                     28.379   0.000  43.684   \n",
       "y ~ 1 + sex                                            29.433   0.050  43.658   \n",
       "y ~ 1 + family                                         29.706   0.023  43.672   \n",
       "y ~ 1 + origin                                         29.748   0.000  43.686   \n",
       "y ~ 1                                                  33.816   0.000  43.637   \n",
       "\n",
       "                                                      dse  warning scale  \n",
       "y ~ 1 + sex + age + age2 + prior + origin + family  0.000    False   log  \n",
       "y ~ 1 + sex + age + age2 + prior + origin           2.525    False   log  \n",
       "y ~ 1 + sex + age + age2 + prior                    4.717    False   log  \n",
       "y ~ 1 + prior                                       7.199    False   log  \n",
       "y ~ 1 + sex + age + age2                            7.591    False   log  \n",
       "y ~ 1 + age + age2                                  8.303    False   log  \n",
       "y ~ 1 + sex                                         8.759    False   log  \n",
       "y ~ 1 + family                                      8.744    False   log  \n",
       "y ~ 1 + origin                                      8.637    False   log  \n",
       "y ~ 1                                               9.308    False   log  "
      ]
     },
     "execution_count": 16,
     "metadata": {},
     "output_type": "execute_result"
    }
   ],
   "source": [
    "loo_compare.round(3)"
   ]
  },
  {
   "cell_type": "code",
   "execution_count": 17,
   "id": "e9a48ae3-a516-47cb-a6c5-8c2849ca2083",
   "metadata": {},
   "outputs": [
    {
     "data": {
      "text/plain": [
       "y ~ 1 + sex + age + age2 + prior + origin + family    8.428814e-01\n",
       "y ~ 1 + sex + age + age2 + prior + origin             7.160083e-03\n",
       "y ~ 1 + sex + age + age2 + prior                      2.948388e-02\n",
       "y ~ 1 + prior                                         4.725775e-02\n",
       "y ~ 1 + sex + age + age2                              5.874507e-16\n",
       "y ~ 1 + age + age2                                    1.572048e-15\n",
       "y ~ 1 + sex                                           5.011549e-02\n",
       "y ~ 1 + family                                        2.310141e-02\n",
       "y ~ 1 + origin                                        8.622525e-17\n",
       "y ~ 1                                                 0.000000e+00\n",
       "Name: weight, dtype: float64"
      ]
     },
     "execution_count": 17,
     "metadata": {},
     "output_type": "execute_result"
    }
   ],
   "source": [
    "loo_compare[\"weight\"]"
   ]
  },
  {
   "cell_type": "code",
   "execution_count": 18,
   "id": "fdceb22c-5be2-43a2-a347-f982cb3b731b",
   "metadata": {},
   "outputs": [
    {
     "data": {
      "image/png": "[encoded data removed]",
      "text/plain": [
       "<Figure size 800x400 with 3 Axes>"
      ]
     },
     "metadata": {},
     "output_type": "display_data"
    }
   ],
   "source": [
    "from copia.estimators import chao1\n",
    "from copia.data import to_copia_dataset\n",
    "import matplotlib.patheffects as path_effects\n",
    "import matplotlib.gridspec as gridspec\n",
    "\n",
    "def quantile_bounds(arr, quantile=0.89):\n",
    "    quantile = (1 - quantile) / 2\n",
    "    lower_quantile, upper_quantile = quantile, 1 - quantile\n",
    "    lower_value = np.quantile(arr, lower_quantile)\n",
    "    upper_value = np.quantile(arr, upper_quantile)\n",
    "    return lower_value, upper_value\n",
    "\n",
    "def estimate_n(model, fit, ci=0.89):\n",
    "    model.predict(fit, data=recid)\n",
    "    trace = az.extract(fit, num_samples=2000)\n",
    "    p = trace['y_mean'].values\n",
    "    l = (2 * p) / (1 - p)\n",
    "    f0 = (1 / (l + (l**2) / 2))\n",
    "    N_est = N_obs + f0.sum(0)\n",
    "    N_lci, N_uci = quantile_bounds(N_est, quantile=ci)\n",
    "    return np.array([int(N_est.mean()), int(N_lci), int(N_uci)])\n",
    "\n",
    "N_obs = len(full_recid['count'])\n",
    "\n",
    "ds = to_copia_dataset(full_recid['count'], input_type=\"counts\")\n",
    "loo_compare = loo_compare.sort_index(key=lambda x: x.str.len())\n",
    "\n",
    "ests = np.vstack([estimate_n(models[model], fits[model], ci=0.95) for model in loo_compare.index[::-1]])\n",
    "\n",
    "fig, (loo_ax, weight_ax, est_ax) = plt.subplots(ncols=3, figsize=(8, 4), sharey=True, gridspec_kw={'width_ratios': [2, 0.5, 2]})\n",
    "\n",
    "az.plot_compare(loo_compare, insample_dev=False, \n",
    "                ax=loo_ax, plot_ic_diff=False, title=False, plot_kwargs={\"marker_ic\": \"x\"},\n",
    "                order_by_rank=False, textsize=10, legend=False)\n",
    "\n",
    "text = loo_ax.annotate(\n",
    "    \"elpd Chao1-equivalent model\", \n",
    "    (loo_compare[\"elpd_loo\"].iloc[0], est_ax.get_yticks()[0]), \n",
    "    xycoords=\"data\",\n",
    "    xytext=(25, 30),\n",
    "    textcoords=\"offset points\",\n",
    "    ha=\"center\",\n",
    "    va=\"center\",\n",
    "    size=\"small\",\n",
    "    arrowprops=dict(\n",
    "        arrowstyle=\"->\", shrinkA=0, shrinkB=5, color=\"black\", linewidth=0.75, connectionstyle=\"arc3,rad=-0.3\",\n",
    "    ),\n",
    ")\n",
    "\n",
    "text.set_path_effects(\n",
    "    [path_effects.Stroke(linewidth=2, foreground=\"white\"), path_effects.Normal()]\n",
    ")\n",
    "text.arrow_patch.set_path_effects(\n",
    "    [path_effects.Stroke(linewidth=2, foreground=\"white\"), path_effects.Normal()]\n",
    ")\n",
    "\n",
    "weights = loo_compare[\"weight\"]\n",
    "weight_ax.plot(weights, loo_ax.get_yticks(), 'k.')\n",
    "weight_ax.set(xlabel=\"Akaike weight\")\n",
    "weight_ax.spines[['right', 'top']].set_visible(False)\n",
    "\n",
    "\n",
    "xerr = ests[:, 0] - ests[:, 1], ests[:, 2] - ests[:, 0]\n",
    "est_ax.set(xlabel=\"Estimated population size\")\n",
    "loo_ax.set(ylabel=\"\")\n",
    "est_ax.errorbar(ests[:, 0][::-1], loo_ax.get_yticks(), xerr=xerr, \n",
    "                marker=\"x\", linestyle=\"none\", color=\"black\", lw=1)\n",
    "chao1_estimate = int(chao1(ds))\n",
    "est_ax.axvline(chao1_estimate, ls=\"--\", color=\"grey\", lw=1)\n",
    "\n",
    "text = est_ax.annotate(\n",
    "    \"Chao1 estimate\", \n",
    "    (chao1_estimate, est_ax.get_yticks()[0]), \n",
    "    xycoords=\"data\",\n",
    "    xytext=(25, 30),\n",
    "    textcoords=\"offset points\",\n",
    "    ha=\"center\",\n",
    "    va=\"center\",\n",
    "    size=\"small\",\n",
    "    arrowprops=dict(\n",
    "        arrowstyle=\"->\", shrinkA=0, shrinkB=5, color=\"black\", \n",
    "        linewidth=0.75, connectionstyle=\"arc3,rad=-0.3\",\n",
    "    ),\n",
    ")\n",
    "\n",
    "est_ax.spines[['right', 'top']].set_visible(False)\n",
    "loo_ax.spines[['right', 'top']].set_visible(False)\n",
    "\n",
    "text.set_path_effects(\n",
    "    [path_effects.Stroke(linewidth=2, foreground=\"white\"), path_effects.Normal()]\n",
    ")\n",
    "text.arrow_patch.set_path_effects(\n",
    "    [path_effects.Stroke(linewidth=2, foreground=\"white\"), path_effects.Normal()]\n",
    ")\n",
    "\n",
    "fig.savefig(\"../viz/comparison.png\", dpi=300, bbox_inches='tight')"
   ]
  },
  {
   "cell_type": "code",
   "execution_count": 26,
   "id": "28b51208-a789-4176-ab87-8457edbbbc8c",
   "metadata": {},
   "outputs": [
    {
     "data": {
      "image/png": "[encoded data removed]",
      "text/plain": [
       "<Figure size 400x200 with 1 Axes>"
      ]
     },
     "metadata": {},
     "output_type": "display_data"
    }
   ],
   "source": [
    "fig, ax = plt.subplots(figsize=(4, 2), constrained_layout=True)\n",
    "az.plot_forest(fits[\"y ~ 1 + sex + age + age2 + prior + origin + family\"], \n",
    "               kind=\"forestplot\", hdi_prob=0.89, combined=True, ax=ax,\n",
    "               var_names=[\"Intercept\", \"age\", \"age2\", \"sex\", \"origin\", \"prior\", \"family\"],\n",
    "               textsize=10, colors=[\"black\"])\n",
    "plt.axvline(0, c='grey', ls='--')\n",
    "plt.savefig(\"../viz/covariate-model.png\", dpi=300, transparent=True)"
   ]
  },
  {
   "cell_type": "markdown",
   "id": "588b4296",
   "metadata": {},
   "source": [
    "## Tabular overview"
   ]
  },
  {
   "cell_type": "code",
   "execution_count": 127,
   "id": "78d8d668-b345-4904-88f5-e9070e448ccf",
   "metadata": {},
   "outputs": [
    {
     "name": "stdout",
     "output_type": "stream",
     "text": [
      "('male', 'female') ('A', 'B')\n"
     ]
    }
   ],
   "source": [
    "x, y = zip(*encoding[\"sex\"].items())\n",
    "print(x, y)"
   ]
  },
  {
   "cell_type": "code",
   "execution_count": 24,
   "id": "379a9216",
   "metadata": {},
   "outputs": [
    {
     "data": {
      "text/html": [
       "<div>\n",
       "<style scoped>\n",
       "    .dataframe tbody tr th:only-of-type {\n",
       "        vertical-align: middle;\n",
       "    }\n",
       "\n",
       "    .dataframe tbody tr th {\n",
       "        vertical-align: top;\n",
       "    }\n",
       "\n",
       "    .dataframe thead th {\n",
       "        text-align: right;\n",
       "    }\n",
       "</style>\n",
       "<table border=\"1\" class=\"dataframe\">\n",
       "  <thead>\n",
       "    <tr style=\"text-align: right;\">\n",
       "      <th></th>\n",
       "      <th></th>\n",
       "      <th>$\\hat{S}_{l}$</th>\n",
       "      <th>$\\hat{S}_{u}$</th>\n",
       "      <th>$S$</th>\n",
       "      <th>$\\hat{S}$</th>\n",
       "      <th>$\\hat{S}_{\\text{MA}}$</th>\n",
       "      <th>Chao1</th>\n",
       "      <th>ratio</th>\n",
       "    </tr>\n",
       "    <tr>\n",
       "      <th></th>\n",
       "      <th></th>\n",
       "      <th></th>\n",
       "      <th></th>\n",
       "      <th></th>\n",
       "      <th></th>\n",
       "      <th></th>\n",
       "      <th></th>\n",
       "      <th></th>\n",
       "    </tr>\n",
       "  </thead>\n",
       "  <tbody>\n",
       "    <tr>\n",
       "      <th>Pop. total</th>\n",
       "      <th></th>\n",
       "      <td>17378</td>\n",
       "      <td>19513</td>\n",
       "      <td>5610</td>\n",
       "      <td>$18396$</td>\n",
       "      <td>18243</td>\n",
       "      <td>16937.61</td>\n",
       "      <td>0.305</td>\n",
       "    </tr>\n",
       "    <tr>\n",
       "      <th rowspan=\"3\" valign=\"top\">origin</th>\n",
       "      <th>BXL</th>\n",
       "      <td>7126</td>\n",
       "      <td>8216</td>\n",
       "      <td>2582</td>\n",
       "      <td>$7650$</td>\n",
       "      <td>$7700^*$</td>\n",
       "      <td>7148.00</td>\n",
       "      <td>0.338</td>\n",
       "    </tr>\n",
       "    <tr>\n",
       "      <th>BE</th>\n",
       "      <td>6969</td>\n",
       "      <td>8168</td>\n",
       "      <td>2275</td>\n",
       "      <td>$7536$</td>\n",
       "      <td>$7455$</td>\n",
       "      <td>7029.00</td>\n",
       "      <td>0.302</td>\n",
       "    </tr>\n",
       "    <tr>\n",
       "      <th>ABROAD</th>\n",
       "      <td>2737</td>\n",
       "      <td>3761</td>\n",
       "      <td>753</td>\n",
       "      <td>$3208$</td>\n",
       "      <td>$3089$</td>\n",
       "      <td>2982.00</td>\n",
       "      <td>0.235</td>\n",
       "    </tr>\n",
       "    <tr>\n",
       "      <th rowspan=\"2\" valign=\"top\">sex</th>\n",
       "      <th>male</th>\n",
       "      <td>14997</td>\n",
       "      <td>16977</td>\n",
       "      <td>4649</td>\n",
       "      <td>$15955^*$</td>\n",
       "      <td>$15785$</td>\n",
       "      <td>14818.00</td>\n",
       "      <td>0.291</td>\n",
       "    </tr>\n",
       "    <tr>\n",
       "      <th>female</th>\n",
       "      <td>2201</td>\n",
       "      <td>2724</td>\n",
       "      <td>961</td>\n",
       "      <td>$2441$</td>\n",
       "      <td>$2458$</td>\n",
       "      <td>2272.00</td>\n",
       "      <td>0.394</td>\n",
       "    </tr>\n",
       "    <tr>\n",
       "      <th rowspan=\"2\" valign=\"top\">prior</th>\n",
       "      <th>no</th>\n",
       "      <td>16364</td>\n",
       "      <td>18429</td>\n",
       "      <td>5100</td>\n",
       "      <td>$17348^*$</td>\n",
       "      <td>$17160$</td>\n",
       "      <td>16299.00</td>\n",
       "      <td>0.294</td>\n",
       "    </tr>\n",
       "    <tr>\n",
       "      <th>yes</th>\n",
       "      <td>938</td>\n",
       "      <td>1171</td>\n",
       "      <td>510</td>\n",
       "      <td>$1048$</td>\n",
       "      <td>$1084$</td>\n",
       "      <td>1007.00</td>\n",
       "      <td>0.487</td>\n",
       "    </tr>\n",
       "    <tr>\n",
       "      <th rowspan=\"2\" valign=\"top\">family</th>\n",
       "      <th>no</th>\n",
       "      <td>10714</td>\n",
       "      <td>12410</td>\n",
       "      <td>3237</td>\n",
       "      <td>$11529^*$</td>\n",
       "      <td>$11325$</td>\n",
       "      <td>10688.00</td>\n",
       "      <td>0.281</td>\n",
       "    </tr>\n",
       "    <tr>\n",
       "      <th>yes</th>\n",
       "      <td>6386</td>\n",
       "      <td>7390</td>\n",
       "      <td>2373</td>\n",
       "      <td>$6866$</td>\n",
       "      <td>$6918$</td>\n",
       "      <td>6409.00</td>\n",
       "      <td>0.346</td>\n",
       "    </tr>\n",
       "  </tbody>\n",
       "</table>\n",
       "</div>"
      ],
      "text/plain": [
       "                   $\\hat{S}_{l}$  $\\hat{S}_{u}$   $S$  $\\hat{S}$  \\\n",
       "                                                                   \n",
       "Pop. total                 17378          19513  5610    $18396$   \n",
       "origin     BXL              7126           8216  2582     $7650$   \n",
       "           BE               6969           8168  2275     $7536$   \n",
       "           ABROAD           2737           3761   753     $3208$   \n",
       "sex        male            14997          16977  4649  $15955^*$   \n",
       "           female           2201           2724   961     $2441$   \n",
       "prior      no              16364          18429  5100  $17348^*$   \n",
       "           yes               938           1171   510     $1048$   \n",
       "family     no              10714          12410  3237  $11529^*$   \n",
       "           yes              6386           7390  2373     $6866$   \n",
       "\n",
       "                  $\\hat{S}_{\\text{MA}}$     Chao1  ratio  \n",
       "                                                          \n",
       "Pop. total                        18243  16937.61  0.305  \n",
       "origin     BXL                 $7700^*$   7148.00  0.338  \n",
       "           BE                    $7455$   7029.00  0.302  \n",
       "           ABROAD                $3089$   2982.00  0.235  \n",
       "sex        male                 $15785$  14818.00  0.291  \n",
       "           female                $2458$   2272.00  0.394  \n",
       "prior      no                   $17160$  16299.00  0.294  \n",
       "           yes                   $1084$   1007.00  0.487  \n",
       "family     no                   $11325$  10688.00  0.281  \n",
       "           yes                   $6918$   6409.00  0.346  "
      ]
     },
     "execution_count": 24,
     "metadata": {},
     "output_type": "execute_result"
    }
   ],
   "source": [
    "# moeilijke tabel, want alles enkel in relatie tot reference levels\n",
    "from copia.data import to_copia_dataset\n",
    "from copia.estimators import diversity\n",
    "\n",
    "model = \"y ~ 1 + sex + age + age2 + prior + origin + family\"\n",
    "coef = az.summary(\n",
    "    fits[model], var_names=['prior', 'origin', 'sex', 'family']\n",
    ")[['mean', 'hdi_3%', 'hdi_97%']]\n",
    "coef['Observed'] = None\n",
    "coef['Estimated'] = None\n",
    "coef['Estimated_lci'] = None\n",
    "coef['Estimated_uci'] = None\n",
    "# coef.loc['sex[female]'] = ['0.0', None, None, None, None, None, None]\n",
    "# coef.loc['prior[no prior]'] = ['0.0', None, None, None, None, None, None]\n",
    "# coef.loc['family[family]'] = ['0.0', None, None, None, None, None, None]\n",
    "# coef.loc['origin[ABROAD]'] = ['0.0', None, None, None, None, None, None]\n",
    "coef.loc['Pop. total'] = None\n",
    "coef = coef.sort_index()\n",
    "\n",
    "N_obs = len(full_recid['count'])\n",
    "\n",
    "models[model].predict(fits[model], data=recid)\n",
    "trace = az.extract(fits[model], num_samples=2000)\n",
    "p = trace['y_mean'].values\n",
    "\n",
    "l = (2 * p) / (1 - p)\n",
    "f0 = (1 / (l + (l**2) / 2))\n",
    "N_est = N_obs + f0.sum(0)\n",
    "\n",
    "N_lci, N_uci = quantile_bounds(N_est)\n",
    "\n",
    "coef.loc['Pop. total', 'Observed'] = N_obs\n",
    "coef.loc['Pop. total', 'Estimated'] = int(N_est.mean())\n",
    "coef.loc['Pop. total', 'Estimated_lci'] = int(N_lci)\n",
    "coef.loc['Pop. total', 'Estimated_uci'] = int(N_uci)\n",
    "\n",
    "for var in ['origin', 'sex', 'prior', 'family']:\n",
    "    for level in recid[var].unique():\n",
    "        # observed\n",
    "        obs = len(full_recid[full_recid[var] == level])\n",
    "        coef.loc[f'{var}[{level}]', 'Observed'] = obs\n",
    "        # estimated\n",
    "        f0 = (1 / (l + (l**2) / 2)) * (recid[var] == level).astype(int).values[:, None]\n",
    "        est = obs + f0.sum(0)\n",
    "        N_lci, N_uci = quantile_bounds(est)\n",
    "        coef.loc[f'{var}[{level}]', 'Estimated'] = int(est.mean())\n",
    "        coef.loc[f'{var}[{level}]', 'Estimated_lci'] = int(N_lci)\n",
    "        coef.loc[f'{var}[{level}]', 'Estimated_uci'] = int(N_uci)\n",
    "\n",
    "        ds = to_copia_dataset(full_recid.loc[full_recid[var] == level, \"count\"], input_type=\"counts\")\n",
    "        chao1_est = diversity(ds, method=\"chao1\", CI=False, n_jobs=4, n_iter=1000)\n",
    "        coef.loc[f'{var}[{level}]', 'Chao1'] = int(chao1_est)\n",
    "\n",
    "detect_ratios = []\n",
    "\n",
    "for o, e in zip(coef['Observed'], coef['Estimated']):\n",
    "    try:\n",
    "        detect_ratios.append(o / e)\n",
    "    except TypeError:\n",
    "        detect_ratios.append(None)\n",
    "        \n",
    "coef['Detection ratio'] = detect_ratios\n",
    "\n",
    "for i, row in coef.iterrows():\n",
    "    chao1_est = row[\"Chao1\"]\n",
    "    N_lci = row[\"Estimated_lci\"]\n",
    "    if chao1_est < N_lci:\n",
    "        coef.loc[i, 'Estimated'] = f'${row[\"Estimated\"]:.0f}^*$'\n",
    "    else:\n",
    "        coef.loc[i, 'Estimated'] = f'${row[\"Estimated\"]:.0f}$'\n",
    "\n",
    "ds = to_copia_dataset(full_recid[\"count\"], input_type=\"counts\")\n",
    "chao1_est = diversity(ds, method=\"chao1\", CI=False, n_jobs=4, n_iter=1000)\n",
    "coef.loc['Pop. total', 'Chao1'] = chao1_est\n",
    "\n",
    "coef = coef.reindex(['Pop. total', \n",
    "                     'origin[A]', 'origin[B]', 'origin[C]', \n",
    "                     'sex[A]', 'sex[B]',\n",
    "                     'prior[A]', 'prior[B]',\n",
    "                     'family[A]', 'family[B]',\n",
    "                    ])\n",
    "\n",
    "index = [\n",
    "    ('Pop. total', ''),\n",
    "    ('origin', 'BXL'),\n",
    "    ('origin', 'BE'),\n",
    "    ('origin', 'ABROAD'),\n",
    "    ('sex', 'male'),\n",
    "    ('sex', 'female'),\n",
    "    ('prior', 'no'),\n",
    "    ('prior', 'yes'),\n",
    "    ('family', 'no'),\n",
    "    ('family', 'yes')\n",
    "]\n",
    "\n",
    "coef['MA Estimate'] = coef_averaged['Estimated']\n",
    "coef = coef.set_index(pd.MultiIndex.from_tuples(index, names=[\"\", \"\"]))\n",
    "coef = coef.round(3).fillna('--')\n",
    "coef = coef[['Estimated_lci', 'Estimated_uci', 'Observed', 'Estimated', 'MA Estimate', 'Chao1', 'Detection ratio']]\n",
    "coef.columns = ['$\\hat{S}_{l}$', '$\\hat{S}_{u}$', '$S$', '$\\hat{S}$', '$\\hat{S}_{\\text{MA}}$', 'Chao1', 'ratio']\n",
    "coef"
   ]
  },
  {
   "cell_type": "code",
   "execution_count": 207,
   "id": "b3c9f618-ab25-42be-8fe1-a4c1d052f6f0",
   "metadata": {},
   "outputs": [
    {
     "name": "stdout",
     "output_type": "stream",
     "text": [
      "\\begin{tabular}{llrrrllrr}\n",
      "\\toprule\n",
      " &  & $\\hat{S}_{l}$ & $\\hat{S}_{u}$ & $S$ & $\\hat{S}$ & $\\hat{S}_{\text{MA}}$ & Chao1 & ratio \\\\\n",
      " &  &  &  &  &  &  &  &  \\\\\n",
      "\\midrule\n",
      "Pop. total &  & 17378 & 19513 & 5610 & $18396$ & 18243 & 16937.610000 & 0.305000 \\\\\n",
      "\\cline{1-9}\n",
      "\\multirow[t]{3}{*}{origin} & BXL & 7126 & 8216 & 2582 & $7650$ & $7700^*$ & 7148.000000 & 0.338000 \\\\\n",
      " & BE & 6969 & 8168 & 2275 & $7536$ & $7455$ & 7029.000000 & 0.302000 \\\\\n",
      " & ABROAD & 2737 & 3761 & 753 & $3208$ & $3089$ & 2982.000000 & 0.235000 \\\\\n",
      "\\cline{1-9}\n",
      "\\multirow[t]{2}{*}{sex} & male & 14997 & 16977 & 4649 & $15955^*$ & $15785$ & 14818.000000 & 0.291000 \\\\\n",
      " & female & 2201 & 2724 & 961 & $2441$ & $2458$ & 2272.000000 & 0.394000 \\\\\n",
      "\\cline{1-9}\n",
      "\\multirow[t]{2}{*}{prior} & no & 16364 & 18429 & 5100 & $17348^*$ & $17160$ & 16299.000000 & 0.294000 \\\\\n",
      " & yes & 938 & 1171 & 510 & $1048$ & $1084$ & 1007.000000 & 0.487000 \\\\\n",
      "\\cline{1-9}\n",
      "\\multirow[t]{2}{*}{family} & no & 10714 & 12410 & 3237 & $11529^*$ & $11325$ & 10688.000000 & 0.281000 \\\\\n",
      " & yes & 6386 & 7390 & 2373 & $6866$ & $6918$ & 6409.000000 & 0.346000 \\\\\n",
      "\\cline{1-9}\n",
      "\\bottomrule\n",
      "\\end{tabular}\n",
      "\n"
     ]
    }
   ],
   "source": [
    "print(coef.to_latex())"
   ]
  },
  {
   "cell_type": "markdown",
   "id": "c0772335",
   "metadata": {},
   "source": [
    "## The effect of covariates\n",
    "\n",
    "0n $p(f_2)$."
   ]
  },
  {
   "cell_type": "code",
   "execution_count": 188,
   "id": "fe5fe448-d8b9-43ca-9c2c-bcb9f6944a32",
   "metadata": {},
   "outputs": [
    {
     "name": "stdout",
     "output_type": "stream",
     "text": [
      "Axes(0.125,0.11;0.775x0.77)\n"
     ]
    },
    {
     "data": {
      "text/plain": [
       "<Axes: ylabel='$p(f_2)$'>"
      ]
     },
     "execution_count": 188,
     "metadata": {},
     "output_type": "execute_result"
    },
    {
     "data": {
      "image/png": "[encoded data removed]",
      "text/plain": [
       "<Figure size 640x480 with 1 Axes>"
      ]
     },
     "metadata": {},
     "output_type": "display_data"
    }
   ],
   "source": [
    "def plot_posterior_categorical(model, fit, var_name=None, contrast_var=None, \n",
    "                               ci_intervals=[0.95, 0.5], color=\"C0\", ylabel=None, ax=None):\n",
    "    if ax is None:\n",
    "        fig, ax = plt.subplots()\n",
    "    if contrast_var is not None and var_name != contrast_var:\n",
    "        ax = plot_posterior_categorical_contrastive(\n",
    "            model, fit, var_name, contrast_var, ci_intervals=ci_intervals, color=\"C0\", ylabel=ylabel, ax=ax)\n",
    "    else:\n",
    "        print(ax)\n",
    "        ax = plot_posterior_categorical_single(\n",
    "            model, fit, var_name=var_name, ci_intervals=ci_intervals, color=\"C0\", ylabel=ylabel, ax=ax)        \n",
    "    return ax\n",
    "\n",
    "def plot_posterior_categorical_single(model, fit, var_name=None,\n",
    "                               ci_intervals=[0.95, 0.5], color=\"C0\", ylabel=None, ax=None):\n",
    "    lws = 2, 5        \n",
    "    value_names, values = zip(*encoding[var_name].items())\n",
    "    for j, value in enumerate(values):\n",
    "        new_data = pd.DataFrame({\n",
    "            \"sex\": \"A\",\n",
    "            \"age\": [0] * len(AGE),\n",
    "            \"age2\": [0] * len(AGE),\n",
    "            \"family\": \"A\",\n",
    "            \"prior\": \"A\",\n",
    "            \"origin\": \"A\"\n",
    "        })\n",
    "        new_data[var_name] = value\n",
    "        \n",
    "        new_idata = model.predict(fit, data=new_data, inplace=False)\n",
    "        mean = new_idata.posterior[\"y_mean\"].values.mean(0)\n",
    "        for i, interval in enumerate(ci_intervals):\n",
    "            ci = (1 - interval) / 2\n",
    "            lower_ci, upper_ci = ci, 1 - ci\n",
    "            lower_value = np.quantile(mean, lower_ci)\n",
    "            upper_value = np.quantile(mean, upper_ci)\n",
    "            ax.plot([j, j], [lower_value, upper_value], lw=lws[i], color=f\"C{j}\")\n",
    "        p_est = mean.mean()\n",
    "        ax.plot([j, j], [p_est, p_est], 'o', color=f\"C{j}\", markerfacecolor=\"white\")\n",
    "        ax.set(xlim=(-0.8, len(values) - 0.2), ylabel=ylabel)\n",
    "        ax.set_xticks(np.arange(len(values)), values if value_names is None else value_names)        \n",
    "    return ax\n",
    "    \n",
    "\n",
    "def plot_posterior_categorical_contrastive(model, fit, var_name=None, contrast_var=None, \n",
    "                               ci_intervals=[0.95, 0.5], color=\"C0\", ylabel=None, ax=None):\n",
    "    lws = 2, 5\n",
    "    value_names, values = zip(*encoding[var_name].items())\n",
    "    contrast_value_name, contrast_values = zip(*encoding[contrast_var].items())\n",
    "    for k, contrast_value in enumerate(contrast_values):\n",
    "        for j, value in enumerate(values):\n",
    "            new_data = pd.DataFrame({\n",
    "                \"sex\": \"A\",\n",
    "                \"age\": [0] * len(AGE),\n",
    "                \"age2\": [0] * len(AGE),\n",
    "                \"family\": \"A\",\n",
    "                \"prior\": \"A\",\n",
    "                \"origin\": \"A\"\n",
    "            })\n",
    "            new_data[var_name] = value\n",
    "            new_data[contrast_var] = contrast_value\n",
    "            \n",
    "            new_idata = model.predict(fit, data=new_data, inplace=False)\n",
    "            mean = new_idata.posterior[\"y_mean\"].values.mean(0)\n",
    "            for i, interval in enumerate(ci_intervals):\n",
    "                ci = (1 - interval) / 2\n",
    "                lower_ci, upper_ci = ci, 1 - ci\n",
    "                lower_value = np.quantile(mean, lower_ci)\n",
    "                upper_value = np.quantile(mean, upper_ci)\n",
    "                ax.plot([j + k * 0.1, j + k * 0.1], [lower_value, upper_value], lw=lws[i], color=f\"C{k}\")\n",
    "            p_est = mean.mean()\n",
    "            ax.plot([j + k * 0.1, j + k * 0.1], [p_est, p_est], 'o', color=f\"C{k}\", markerfacecolor=\"white\")\n",
    "            ax.set(xlim=(-0.8, len(values) - 0.2), ylabel=ylabel)\n",
    "            ax.set_xticks(np.arange(len(values)), values if value_names is None else value_names)\n",
    "        ax.set(xlim=(-0.8, len(values) - 0.2), ylabel=ylabel)\n",
    "        ax.set_xticks(np.arange(len(values)), values if value_names is None else value_names)    \n",
    "    return ax\n",
    "\n",
    "plot_posterior_categorical(models[model], fits[model], \"sex\", \"sex\", ylabel=\"$p(f_2)$\")"
   ]
  },
  {
   "cell_type": "code",
   "execution_count": 184,
   "id": "8bb2d524-170d-4be3-9a80-e961f2f47ddd",
   "metadata": {},
   "outputs": [
    {
     "data": {
      "text/plain": [
       "(2000, 50)"
      ]
     },
     "execution_count": 184,
     "metadata": {},
     "output_type": "execute_result"
    }
   ],
   "source": [
    "mean.mean(0).shape"
   ]
  },
  {
   "cell_type": "code",
   "execution_count": 206,
   "id": "15a096e7-d5e6-441e-939d-c373259c38df",
   "metadata": {},
   "outputs": [
    {
     "name": "stdout",
     "output_type": "stream",
     "text": [
      "Axes(0.125,0.653529;0.227941x0.226471)\n",
      "Axes(0.672059,0.11;0.227941x0.226471)\n"
     ]
    },
    {
     "data": {
      "image/png": "[encoded data removed]",
      "text/plain": [
       "<Figure size 600x600 with 9 Axes>"
      ]
     },
     "metadata": {},
     "output_type": "display_data"
    }
   ],
   "source": [
    "import itertools\n",
    "\n",
    "model = \"y ~ 1 + sex + age + age2 + prior + origin + family\"\n",
    "\n",
    "AGE = (np.linspace(1, 90) - age_mean) / age_std\n",
    "\n",
    "predictors = {\n",
    "    \"sex\": (\"A\", \"B\"), \n",
    "    \"age\": AGE,\n",
    "    \"origin\": (\"A\", \"B\", \"C\")\n",
    "}\n",
    "\n",
    "fig, axes = plt.subplots(\n",
    "    ncols=len(predictors), nrows=len(predictors), \n",
    "    figsize=(6, 6), sharey=\"row\", constrained_layout=False\n",
    ")\n",
    "handles = []\n",
    "\n",
    "seen_combos = set()\n",
    "for i, a in enumerate(predictors):\n",
    "    for j, b in enumerate(predictors):\n",
    "        if frozenset([a, b]) in seen_combos:\n",
    "            continue\n",
    "        if a != \"age\" and b != \"age\":\n",
    "            plot_posterior_categorical(\n",
    "                models[model], fits[model], a, b, ax=axes[j, i])\n",
    "        elif a == \"age\" and b == \"age\":\n",
    "            new_data = pd.DataFrame({\n",
    "                \"sex\": \"A\",\n",
    "                \"age\": AGE,\n",
    "                \"age2\": AGE ** 2,\n",
    "                \"family\": \"A\",\n",
    "                \"prior\": \"A\",\n",
    "                \"origin\": \"A\", \n",
    "            })\n",
    "            new_idata = models[model].predict(fits[model], data=new_data, inplace=False)\n",
    "            mean = new_idata.posterior[\"y_mean\"].values\n",
    "                \n",
    "            az.plot_hdi(AGE * age_std + age_mean, mean, ax=axes[i, i], color=\"C0\", hdi_prob=0.95)        \n",
    "            az.plot_hdi(AGE * age_std + age_mean, mean, ax=axes[i, i], color=\"C0\", hdi_prob=0.5)\n",
    "            # axes[i, i].plot(AGE * age_std + age_mean, mean.mean(1).mean(0), color=\"C0\")\n",
    "\n",
    "        else:\n",
    "            var = next(iter([v for v in (a, b) if v != \"age\"]))\n",
    "            for q, (value_name, value) in enumerate(encoding[var].items()):\n",
    "                new_data = pd.DataFrame({\n",
    "                    \"sex\": \"A\",\n",
    "                    \"age\": AGE,\n",
    "                    \"age2\": AGE ** 2,\n",
    "                    \"family\": \"A\",\n",
    "                    \"prior\": \"A\",\n",
    "                    \"origin\": \"A\", \n",
    "                })\n",
    "\n",
    "                new_data[var] = value\n",
    "                new_idata = models[model].predict(fits[model], data=new_data, inplace=False)\n",
    "                mean = new_idata.posterior[\"y_mean\"].values\n",
    "                    \n",
    "                az.plot_hdi(AGE * age_std + age_mean, mean, ax=axes[j, i], color=f\"C{q}\", hdi_prob=0.95)        \n",
    "                az.plot_hdi(AGE * age_std + age_mean, mean, ax=axes[j, i], color=f\"C{q}\", hdi_prob=0.5)\n",
    "                # axes[j, i].plot(AGE * age_std + age_mean, mean.mean(1).mean(0), color=f\"C{q}\", zor)\n",
    "            \n",
    "        seen_combos.add(frozenset([a, b]))\n",
    "\n",
    "for ax in axes[np.triu_indices(3, k=1)]:\n",
    "    ax.set_axis_off()\n",
    "\n",
    "fig.supylabel(\"$p(f_2)$\");\n",
    "\n",
    "axes[0, 0].annotate(\"sex\", xy=(0.5, 1.05), ha=\"center\", xycoords='axes fraction', fontweight=\"light\", fontsize=13)\n",
    "axes[1, 1].annotate(\"age\", xy=(0.5, 1.05), ha=\"center\", xycoords='axes fraction', fontweight=\"light\", fontsize=13)\n",
    "axes[2, 2].annotate(\"origin\", xy=(0.5, 1.05), ha=\"center\", xycoords='axes fraction', fontweight=\"light\", fontsize=13)\n",
    "\n",
    "axes[2, 0].set(xlabel=\"sex\")\n",
    "axes[2, 1].set(xlabel=\"age\")\n",
    "axes[2, 2].set(xlabel=\"origin\")\n",
    "\n",
    "# axes[1, 1].set_title(\"age\", fontweight=\"light\", pad=-50)\n",
    "# axes[2, 2].set_title(\"origin\", fontweight=\"light\", pad=-50)\n",
    "    \n",
    "# axes[0, 0].set(ylabel=\"$p(f_2)$\", title=\"BXL\")\n",
    "# axes[1, 0].set(ylabel=\"$p(f_2)$\")\n",
    "# axes[0, 1].set(title=\"BE\")\n",
    "# axes[0, 2].set(title=\"ABROAD\")\n",
    "# fig.supxlabel(\"Age\")\n",
    "# fig.legend(handles=handles[:2], labels=['male', 'female'], ncol=2, loc=\"upper center\", bbox_to_anchor=(0.55, 1.1), frameon=False);\n",
    "plt.savefig(\"../viz/marginal-effects.png\", dpi=300, bbox_inches='tight', transparent=True)"
   ]
  },
  {
   "cell_type": "code",
   "execution_count": 153,
   "id": "1ae06610",
   "metadata": {},
   "outputs": [
    {
     "data": {
      "image/png": "[encoded data removed]",
      "text/plain": [
       "<Figure size 720x360 with 1 Axes>"
      ]
     },
     "metadata": {},
     "output_type": "display_data"
    }
   ],
   "source": [
    "fig, ax = plt.subplots(figsize=(6, 3), dpi=120)\n",
    "bmb.interpret.plot_predictions(models[model], fits[model], ['origin', 'prior'], ax=ax)\n",
    "plt.tight_layout()\n",
    "plt.savefig(\"../viz/origin_prior.png\", dpi=300, transparent=True)"
   ]
  },
  {
   "cell_type": "markdown",
   "id": "f77a6f25-acf4-452b-965d-502b17b665dc",
   "metadata": {},
   "source": [
    "# Model averaging (draft)"
   ]
  },
  {
   "cell_type": "code",
   "execution_count": 157,
   "id": "564787fe-ec59-4c1a-bddc-bebd08e0dd81",
   "metadata": {},
   "outputs": [],
   "source": [
    "weights = loo_compare[\"weight\"]\n",
    "traces = [fits[model] for model in weights.index]\n",
    "model_traces = [models[model] for model in weights.index]\n",
    "\n",
    "for model, trace in zip(model_traces, traces):\n",
    "   model.predict(trace, kind=\"pps\")"
   ]
  },
  {
   "cell_type": "code",
   "execution_count": 158,
   "id": "376c7bc8-b82a-4436-bff5-c71dee89fc8a",
   "metadata": {},
   "outputs": [
    {
     "data": {
      "text/plain": [
       "[8000, 8000, 8000, 8000, 8000, 8000, 8000, 8000, 8000, 8000]"
      ]
     },
     "execution_count": 158,
     "metadata": {},
     "output_type": "execute_result"
    }
   ],
   "source": [
    "len_idatas = [\n",
    "    idata.posterior_predictive.sizes[\"chain\"] * idata.posterior_predictive.sizes[\"draw\"]\n",
    "    for idata in traces\n",
    "]\n",
    "len_idatas"
   ]
  },
  {
   "cell_type": "code",
   "execution_count": 164,
   "id": "89024620-43fc-4762-aa37-827b457754bb",
   "metadata": {},
   "outputs": [
    {
     "data": {
      "text/plain": [
       "y ~ 1                                                    0\n",
       "y ~ 1 + sex                                              0\n",
       "y ~ 1 + prior                                           88\n",
       "y ~ 1 + origin                                           0\n",
       "y ~ 1 + family                                         701\n",
       "y ~ 1 + age + age2                                       0\n",
       "y ~ 1 + sex + age + age2                                 0\n",
       "y ~ 1 + sex + age + age2 + prior                       413\n",
       "y ~ 1 + sex + age + age2 + prior + origin              985\n",
       "y ~ 1 + sex + age + age2 + prior + origin + family    5811\n",
       "Name: weight, dtype: int64"
      ]
     },
     "execution_count": 164,
     "metadata": {},
     "output_type": "execute_result"
    }
   ],
   "source": [
    "new_samples = (np.min(len_idatas) * weights).astype(int)\n",
    "new_samples"
   ]
  },
  {
   "cell_type": "code",
   "execution_count": 169,
   "id": "75d05e31-a875-4e99-8ca7-d2e0f1fc439d",
   "metadata": {},
   "outputs": [],
   "source": [
    "new_idatas = [\n",
    "    az.extract(idata, group=\"posterior\", num_samples=samples).reset_coords()\n",
    "    for samples, idata in zip(new_samples, traces)\n",
    "]"
   ]
  },
  {
   "cell_type": "code",
   "execution_count": 170,
   "id": "4472be3f-a63d-4916-97b5-5f6d1c4ec1cd",
   "metadata": {
    "scrolled": true
   },
   "outputs": [
    {
     "data": {
      "text/plain": [
       "[<xarray.Dataset>\n",
       " Dimensions:    (sample: 0, y_obs: 5163)\n",
       " Coordinates:\n",
       "   * y_obs      (y_obs) int64 0 1 2 3 4 5 6 ... 5157 5158 5159 5160 5161 5162\n",
       "   * sample     (sample) object MultiIndex\n",
       "   * chain      (sample) int64 \n",
       "   * draw       (sample) int64 \n",
       " Data variables:\n",
       "     Intercept  (sample) float64 \n",
       "     y_mean     (y_obs, sample) float64 \n",
       " Attributes:\n",
       "     created_at:                  2024-06-27T10:21:27.941808\n",
       "     arviz_version:               0.17.1\n",
       "     inference_library:           pymc\n",
       "     inference_library_version:   5.15.1\n",
       "     sampling_time:               19.649499893188477\n",
       "     tuning_steps:                1000\n",
       "     modeling_interface:          bambi\n",
       "     modeling_interface_version:  0.13.0,\n",
       " <xarray.Dataset>\n",
       " Dimensions:    (sample: 0, sex_dim: 1, y_obs: 5163)\n",
       " Coordinates:\n",
       "   * sex_dim    (sex_dim) <U1 'B'\n",
       "   * y_obs      (y_obs) int64 0 1 2 3 4 5 6 ... 5157 5158 5159 5160 5161 5162\n",
       "   * sample     (sample) object MultiIndex\n",
       "   * chain      (sample) int64 \n",
       "   * draw       (sample) int64 \n",
       " Data variables:\n",
       "     Intercept  (sample) float64 \n",
       "     sex        (sex_dim, sample) float64 \n",
       "     y_mean     (y_obs, sample) float64 \n",
       " Attributes:\n",
       "     created_at:                  2024-06-27T10:22:12.856398\n",
       "     arviz_version:               0.17.1\n",
       "     inference_library:           pymc\n",
       "     inference_library_version:   5.15.1\n",
       "     sampling_time:               17.58811593055725\n",
       "     tuning_steps:                1000\n",
       "     modeling_interface:          bambi\n",
       "     modeling_interface_version:  0.13.0,\n",
       " <xarray.Dataset>\n",
       " Dimensions:    (sample: 88, prior_dim: 1, y_obs: 5163)\n",
       " Coordinates:\n",
       "   * prior_dim  (prior_dim) <U1 'B'\n",
       "   * y_obs      (y_obs) int64 0 1 2 3 4 5 6 ... 5157 5158 5159 5160 5161 5162\n",
       "   * sample     (sample) object MultiIndex\n",
       "   * chain      (sample) int64 1 1 0 2 3 3 0 2 3 1 2 0 ... 0 0 3 0 0 2 2 1 3 3 2\n",
       "   * draw       (sample) int64 1491 1229 351 1017 940 ... 874 247 1557 312 559\n",
       " Data variables:\n",
       "     Intercept  (sample) float64 -1.718 -1.799 -1.699 ... -1.649 -1.819 -1.705\n",
       "     prior      (prior_dim, sample) float64 0.7295 0.4838 ... 0.4959 0.7433\n",
       "     y_mean     (y_obs, sample) float64 0.1522 0.1419 0.1546 ... 0.1395 0.1538\n",
       " Attributes:\n",
       "     created_at:                  2024-06-27T10:22:35.761351\n",
       "     arviz_version:               0.17.1\n",
       "     inference_library:           pymc\n",
       "     inference_library_version:   5.15.1\n",
       "     sampling_time:               18.25861668586731\n",
       "     tuning_steps:                1000\n",
       "     modeling_interface:          bambi\n",
       "     modeling_interface_version:  0.13.0,\n",
       " <xarray.Dataset>\n",
       " Dimensions:     (sample: 0, origin_dim: 2, y_obs: 5163)\n",
       " Coordinates:\n",
       "   * origin_dim  (origin_dim) <U1 'B' 'C'\n",
       "   * y_obs       (y_obs) int64 0 1 2 3 4 5 6 ... 5157 5158 5159 5160 5161 5162\n",
       "   * sample      (sample) object MultiIndex\n",
       "   * chain       (sample) int64 \n",
       "   * draw        (sample) int64 \n",
       " Data variables:\n",
       "     Intercept   (sample) float64 \n",
       "     origin      (origin_dim, sample) float64 \n",
       "     y_mean      (y_obs, sample) float64 \n",
       " Attributes:\n",
       "     created_at:                  2024-06-27T10:22:58.359847\n",
       "     arviz_version:               0.17.1\n",
       "     inference_library:           pymc\n",
       "     inference_library_version:   5.15.1\n",
       "     sampling_time:               18.279710054397583\n",
       "     tuning_steps:                1000\n",
       "     modeling_interface:          bambi\n",
       "     modeling_interface_version:  0.13.0,\n",
       " <xarray.Dataset>\n",
       " Dimensions:     (sample: 701, family_dim: 1, y_obs: 5163)\n",
       " Coordinates:\n",
       "   * family_dim  (family_dim) <U1 'B'\n",
       "   * y_obs       (y_obs) int64 0 1 2 3 4 5 6 ... 5157 5158 5159 5160 5161 5162\n",
       "   * sample      (sample) object MultiIndex\n",
       "   * chain       (sample) int64 0 1 0 3 3 3 3 3 0 1 3 2 ... 2 1 2 0 1 3 1 3 0 1 2\n",
       "   * draw        (sample) int64 1424 1393 1736 635 1958 ... 1796 1563 1542 1852\n",
       " Data variables:\n",
       "     Intercept   (sample) float64 -1.793 -1.771 -1.682 ... -1.732 -1.711 -1.762\n",
       "     family      (family_dim, sample) float64 0.3365 0.3252 ... 0.1768 0.2573\n",
       "     y_mean      (y_obs, sample) float64 0.1427 0.1454 0.1568 ... 0.153 0.1465\n",
       " Attributes:\n",
       "     created_at:                  2024-06-27T10:23:20.889935\n",
       "     arviz_version:               0.17.1\n",
       "     inference_library:           pymc\n",
       "     inference_library_version:   5.15.1\n",
       "     sampling_time:               17.52460813522339\n",
       "     tuning_steps:                1000\n",
       "     modeling_interface:          bambi\n",
       "     modeling_interface_version:  0.13.0,\n",
       " <xarray.Dataset>\n",
       " Dimensions:    (sample: 0, y_obs: 5163)\n",
       " Coordinates:\n",
       "   * y_obs      (y_obs) int64 0 1 2 3 4 5 6 ... 5157 5158 5159 5160 5161 5162\n",
       "   * sample     (sample) object MultiIndex\n",
       "   * chain      (sample) int64 \n",
       "   * draw       (sample) int64 \n",
       " Data variables:\n",
       "     Intercept  (sample) float64 \n",
       "     age        (sample) float64 \n",
       "     age2       (sample) float64 \n",
       "     y_mean     (y_obs, sample) float64 \n",
       " Attributes:\n",
       "     created_at:                  2024-06-27T10:21:50.420491\n",
       "     arviz_version:               0.17.1\n",
       "     inference_library:           pymc\n",
       "     inference_library_version:   5.15.1\n",
       "     sampling_time:               19.46173596382141\n",
       "     tuning_steps:                1000\n",
       "     modeling_interface:          bambi\n",
       "     modeling_interface_version:  0.13.0,\n",
       " <xarray.Dataset>\n",
       " Dimensions:    (sample: 0, sex_dim: 1, y_obs: 5163)\n",
       " Coordinates:\n",
       "   * sex_dim    (sex_dim) <U1 'B'\n",
       "   * y_obs      (y_obs) int64 0 1 2 3 4 5 6 ... 5157 5158 5159 5160 5161 5162\n",
       "   * sample     (sample) object MultiIndex\n",
       "   * chain      (sample) int64 \n",
       "   * draw       (sample) int64 \n",
       " Data variables:\n",
       "     Intercept  (sample) float64 \n",
       "     sex        (sex_dim, sample) float64 \n",
       "     age        (sample) float64 \n",
       "     age2       (sample) float64 \n",
       "     y_mean     (y_obs, sample) float64 \n",
       " Attributes:\n",
       "     created_at:                  2024-06-27T10:23:45.864481\n",
       "     arviz_version:               0.17.1\n",
       "     inference_library:           pymc\n",
       "     inference_library_version:   5.15.1\n",
       "     sampling_time:               19.97089910507202\n",
       "     tuning_steps:                1000\n",
       "     modeling_interface:          bambi\n",
       "     modeling_interface_version:  0.13.0,\n",
       " <xarray.Dataset>\n",
       " Dimensions:    (sample: 413, sex_dim: 1, prior_dim: 1, y_obs: 5163)\n",
       " Coordinates:\n",
       "   * sex_dim    (sex_dim) <U1 'B'\n",
       "   * prior_dim  (prior_dim) <U1 'B'\n",
       "   * y_obs      (y_obs) int64 0 1 2 3 4 5 6 ... 5157 5158 5159 5160 5161 5162\n",
       "   * sample     (sample) object MultiIndex\n",
       "   * chain      (sample) int64 2 2 1 1 0 3 0 2 3 3 1 0 ... 1 3 3 3 0 3 0 1 3 2 3\n",
       "   * draw       (sample) int64 49 1614 1022 1475 1360 ... 1567 1271 1671 1600 472\n",
       " Data variables:\n",
       "     Intercept  (sample) float64 -1.637 -1.667 -1.775 ... -1.614 -1.739 -1.715\n",
       "     sex        (sex_dim, sample) float64 0.3167 0.3998 0.3915 ... 0.3587 0.3948\n",
       "     age        (sample) float64 0.158 0.1751 0.1415 ... 0.1672 0.04686 0.1476\n",
       "     age2       (sample) float64 -0.0892 -0.117 -0.07095 ... -0.08313 -0.1023\n",
       "     prior      (prior_dim, sample) float64 0.472 0.5582 0.7089 ... 0.6371 0.7761\n",
       "     y_mean     (y_obs, sample) float64 0.1581 0.1535 0.141 ... 0.1271 0.1133\n",
       " Attributes:\n",
       "     created_at:                  2024-06-27T10:24:15.850331\n",
       "     arviz_version:               0.17.1\n",
       "     inference_library:           pymc\n",
       "     inference_library_version:   5.15.1\n",
       "     sampling_time:               20.912478923797607\n",
       "     tuning_steps:                1000\n",
       "     modeling_interface:          bambi\n",
       "     modeling_interface_version:  0.13.0,\n",
       " <xarray.Dataset>\n",
       " Dimensions:     (sample: 985, sex_dim: 1, prior_dim: 1, origin_dim: 2,\n",
       "                  y_obs: 5163)\n",
       " Coordinates:\n",
       "   * sex_dim     (sex_dim) <U1 'B'\n",
       "   * prior_dim   (prior_dim) <U1 'B'\n",
       "   * origin_dim  (origin_dim) <U1 'B' 'C'\n",
       "   * y_obs       (y_obs) int64 0 1 2 3 4 5 6 ... 5157 5158 5159 5160 5161 5162\n",
       "   * sample      (sample) object MultiIndex\n",
       "   * chain       (sample) int64 0 1 1 2 0 1 1 1 0 1 3 2 ... 1 3 3 0 0 2 2 3 0 1 0\n",
       "   * draw        (sample) int64 1011 1222 299 1379 1659 ... 683 1792 1077 1289\n",
       " Data variables:\n",
       "     Intercept   (sample) float64 -1.581 -1.39 -1.483 ... -1.548 -1.509 -1.691\n",
       "     sex         (sex_dim, sample) float64 0.6091 0.3093 0.2389 ... 0.4492 0.5803\n",
       "     age         (sample) float64 0.116 0.208 0.1151 ... 0.168 0.0984 0.01097\n",
       "     age2        (sample) float64 -0.1353 -0.1972 -0.118 ... -0.1576 -0.09208\n",
       "     prior       (prior_dim, sample) float64 0.5218 0.8476 ... 0.6302 0.7483\n",
       "     origin      (origin_dim, sample) float64 -0.05835 -0.2934 ... -0.4486\n",
       "     y_mean      (y_obs, sample) float64 0.1201 0.1133 0.09659 ... 0.1327 0.1361\n",
       " Attributes:\n",
       "     created_at:                  2024-06-27T10:24:50.273312\n",
       "     arviz_version:               0.17.1\n",
       "     inference_library:           pymc\n",
       "     inference_library_version:   5.15.1\n",
       "     sampling_time:               25.081658840179443\n",
       "     tuning_steps:                1000\n",
       "     modeling_interface:          bambi\n",
       "     modeling_interface_version:  0.13.0,\n",
       " <xarray.Dataset>\n",
       " Dimensions:     (sample: 5811, sex_dim: 1, prior_dim: 1, origin_dim: 2,\n",
       "                  family_dim: 1, y_obs: 5163)\n",
       " Coordinates:\n",
       "   * sex_dim     (sex_dim) <U1 'B'\n",
       "   * prior_dim   (prior_dim) <U1 'B'\n",
       "   * origin_dim  (origin_dim) <U1 'B' 'C'\n",
       "   * family_dim  (family_dim) <U1 'B'\n",
       "   * y_obs       (y_obs) int64 0 1 2 3 4 5 6 ... 5157 5158 5159 5160 5161 5162\n",
       "   * sample      (sample) object MultiIndex\n",
       "   * chain       (sample) int64 1 0 0 2 3 2 2 1 3 3 3 3 ... 0 1 2 2 0 0 0 1 3 0 3\n",
       "   * draw        (sample) int64 1943 1951 522 570 1687 ... 1846 611 1894 1368 818\n",
       " Data variables:\n",
       "     Intercept   (sample) float64 -1.752 -1.684 -1.461 ... -1.696 -1.607 -1.634\n",
       "     sex         (sex_dim, sample) float64 0.4114 0.5689 0.6133 ... 0.4548 0.4426\n",
       "     age         (sample) float64 0.127 0.1708 0.1212 ... 0.1779 0.1268 0.08319\n",
       "     age2        (sample) float64 -0.1305 -0.1819 -0.2325 ... -0.1678 -0.08402\n",
       "     prior       (prior_dim, sample) float64 0.806 0.594 0.927 ... 0.9294 0.671\n",
       "     origin      (origin_dim, sample) float64 -0.1267 -0.1733 ... -0.5039 -0.5193\n",
       "     family      (family_dim, sample) float64 0.3716 0.268 ... 0.157 0.1038\n",
       "     y_mean      (y_obs, sample) float64 0.08952 0.1091 0.1138 ... 0.1165 0.1337\n",
       " Attributes:\n",
       "     created_at:                  2024-06-27T10:25:25.620516\n",
       "     arviz_version:               0.17.1\n",
       "     inference_library:           pymc\n",
       "     inference_library_version:   5.15.1\n",
       "     sampling_time:               25.353549003601074\n",
       "     tuning_steps:                1000\n",
       "     modeling_interface:          bambi\n",
       "     modeling_interface_version:  0.13.0]"
      ]
     },
     "execution_count": 170,
     "metadata": {},
     "output_type": "execute_result"
    }
   ],
   "source": [
    "new_idatas"
   ]
  },
  {
   "cell_type": "code",
   "execution_count": 195,
   "id": "0be75dc3-a85f-424d-9afc-26b2e79fd5da",
   "metadata": {},
   "outputs": [
    {
     "data": {
      "text/html": [
       "<div><svg style=\"position: absolute; width: 0; height: 0; overflow: hidden\">\n",
       "<defs>\n",
       "<symbol id=\"icon-database\" viewBox=\"0 0 32 32\">\n",
       "<path d=\"M16 0c-8.837 0-16 2.239-16 5v4c0 2.761 7.163 5 16 5s16-2.239 16-5v-4c0-2.761-7.163-5-16-5z\"></path>\n",
       "<path d=\"M16 17c-8.837 0-16-2.239-16-5v6c0 2.761 7.163 5 16 5s16-2.239 16-5v-6c0 2.761-7.163 5-16 5z\"></path>\n",
       "<path d=\"M16 26c-8.837 0-16-2.239-16-5v6c0 2.761 7.163 5 16 5s16-2.239 16-5v-6c0 2.761-7.163 5-16 5z\"></path>\n",
       "</symbol>\n",
       "<symbol id=\"icon-file-text2\" viewBox=\"0 0 32 32\">\n",
       "<path d=\"M28.681 7.159c-0.694-0.947-1.662-2.053-2.724-3.116s-2.169-2.030-3.116-2.724c-1.612-1.182-2.393-1.319-2.841-1.319h-15.5c-1.378 0-2.5 1.121-2.5 2.5v27c0 1.378 1.122 2.5 2.5 2.5h23c1.378 0 2.5-1.122 2.5-2.5v-19.5c0-0.448-0.137-1.23-1.319-2.841zM24.543 5.457c0.959 0.959 1.712 1.825 2.268 2.543h-4.811v-4.811c0.718 0.556 1.584 1.309 2.543 2.268zM28 29.5c0 0.271-0.229 0.5-0.5 0.5h-23c-0.271 0-0.5-0.229-0.5-0.5v-27c0-0.271 0.229-0.5 0.5-0.5 0 0 15.499-0 15.5 0v7c0 0.552 0.448 1 1 1h7v19.5z\"></path>\n",
       "<path d=\"M23 26h-14c-0.552 0-1-0.448-1-1s0.448-1 1-1h14c0.552 0 1 0.448 1 1s-0.448 1-1 1z\"></path>\n",
       "<path d=\"M23 22h-14c-0.552 0-1-0.448-1-1s0.448-1 1-1h14c0.552 0 1 0.448 1 1s-0.448 1-1 1z\"></path>\n",
       "<path d=\"M23 18h-14c-0.552 0-1-0.448-1-1s0.448-1 1-1h14c0.552 0 1 0.448 1 1s-0.448 1-1 1z\"></path>\n",
       "</symbol>\n",
       "</defs>\n",
       "</svg>\n",
       "<style>/* CSS stylesheet for displaying xarray objects in jupyterlab.\n",
       " *\n",
       " */\n",
       "\n",
       ":root {\n",
       "  --xr-font-color0: var(--jp-content-font-color0, rgba(0, 0, 0, 1));\n",
       "  --xr-font-color2: var(--jp-content-font-color2, rgba(0, 0, 0, 0.54));\n",
       "  --xr-font-color3: var(--jp-content-font-color3, rgba(0, 0, 0, 0.38));\n",
       "  --xr-border-color: var(--jp-border-color2, #e0e0e0);\n",
       "  --xr-disabled-color: var(--jp-layout-color3, #bdbdbd);\n",
       "  --xr-background-color: var(--jp-layout-color0, white);\n",
       "  --xr-background-color-row-even: var(--jp-layout-color1, white);\n",
       "  --xr-background-color-row-odd: var(--jp-layout-color2, #eeeeee);\n",
       "}\n",
       "\n",
       "html[theme=dark],\n",
       "body[data-theme=dark],\n",
       "body.vscode-dark {\n",
       "  --xr-font-color0: rgba(255, 255, 255, 1);\n",
       "  --xr-font-color2: rgba(255, 255, 255, 0.54);\n",
       "  --xr-font-color3: rgba(255, 255, 255, 0.38);\n",
       "  --xr-border-color: #1F1F1F;\n",
       "  --xr-disabled-color: #515151;\n",
       "  --xr-background-color: #111111;\n",
       "  --xr-background-color-row-even: #111111;\n",
       "  --xr-background-color-row-odd: #313131;\n",
       "}\n",
       "\n",
       ".xr-wrap {\n",
       "  display: block !important;\n",
       "  min-width: 300px;\n",
       "  max-width: 700px;\n",
       "}\n",
       "\n",
       ".xr-text-repr-fallback {\n",
       "  /* fallback to plain text repr when CSS is not injected (untrusted notebook) */\n",
       "  display: none;\n",
       "}\n",
       "\n",
       ".xr-header {\n",
       "  padding-top: 6px;\n",
       "  padding-bottom: 6px;\n",
       "  margin-bottom: 4px;\n",
       "  border-bottom: solid 1px var(--xr-border-color);\n",
       "}\n",
       "\n",
       ".xr-header > div,\n",
       ".xr-header > ul {\n",
       "  display: inline;\n",
       "  margin-top: 0;\n",
       "  margin-bottom: 0;\n",
       "}\n",
       "\n",
       ".xr-obj-type,\n",
       ".xr-array-name {\n",
       "  margin-left: 2px;\n",
       "  margin-right: 10px;\n",
       "}\n",
       "\n",
       ".xr-obj-type {\n",
       "  color: var(--xr-font-color2);\n",
       "}\n",
       "\n",
       ".xr-sections {\n",
       "  padding-left: 0 !important;\n",
       "  display: grid;\n",
       "  grid-template-columns: 150px auto auto 1fr 20px 20px;\n",
       "}\n",
       "\n",
       ".xr-section-item {\n",
       "  display: contents;\n",
       "}\n",
       "\n",
       ".xr-section-item input {\n",
       "  display: none;\n",
       "}\n",
       "\n",
       ".xr-section-item input + label {\n",
       "  color: var(--xr-disabled-color);\n",
       "}\n",
       "\n",
       ".xr-section-item input:enabled + label {\n",
       "  cursor: pointer;\n",
       "  color: var(--xr-font-color2);\n",
       "}\n",
       "\n",
       ".xr-section-item input:enabled + label:hover {\n",
       "  color: var(--xr-font-color0);\n",
       "}\n",
       "\n",
       ".xr-section-summary {\n",
       "  grid-column: 1;\n",
       "  color: var(--xr-font-color2);\n",
       "  font-weight: 500;\n",
       "}\n",
       "\n",
       ".xr-section-summary > span {\n",
       "  display: inline-block;\n",
       "  padding-left: 0.5em;\n",
       "}\n",
       "\n",
       ".xr-section-summary-in:disabled + label {\n",
       "  color: var(--xr-font-color2);\n",
       "}\n",
       "\n",
       ".xr-section-summary-in + label:before {\n",
       "  display: inline-block;\n",
       "  content: '►';\n",
       "  font-size: 11px;\n",
       "  width: 15px;\n",
       "  text-align: center;\n",
       "}\n",
       "\n",
       ".xr-section-summary-in:disabled + label:before {\n",
       "  color: var(--xr-disabled-color);\n",
       "}\n",
       "\n",
       ".xr-section-summary-in:checked + label:before {\n",
       "  content: '▼';\n",
       "}\n",
       "\n",
       ".xr-section-summary-in:checked + label > span {\n",
       "  display: none;\n",
       "}\n",
       "\n",
       ".xr-section-summary,\n",
       ".xr-section-inline-details {\n",
       "  padding-top: 4px;\n",
       "  padding-bottom: 4px;\n",
       "}\n",
       "\n",
       ".xr-section-inline-details {\n",
       "  grid-column: 2 / -1;\n",
       "}\n",
       "\n",
       ".xr-section-details {\n",
       "  display: none;\n",
       "  grid-column: 1 / -1;\n",
       "  margin-bottom: 5px;\n",
       "}\n",
       "\n",
       ".xr-section-summary-in:checked ~ .xr-section-details {\n",
       "  display: contents;\n",
       "}\n",
       "\n",
       ".xr-array-wrap {\n",
       "  grid-column: 1 / -1;\n",
       "  display: grid;\n",
       "  grid-template-columns: 20px auto;\n",
       "}\n",
       "\n",
       ".xr-array-wrap > label {\n",
       "  grid-column: 1;\n",
       "  vertical-align: top;\n",
       "}\n",
       "\n",
       ".xr-preview {\n",
       "  color: var(--xr-font-color3);\n",
       "}\n",
       "\n",
       ".xr-array-preview,\n",
       ".xr-array-data {\n",
       "  padding: 0 5px !important;\n",
       "  grid-column: 2;\n",
       "}\n",
       "\n",
       ".xr-array-data,\n",
       ".xr-array-in:checked ~ .xr-array-preview {\n",
       "  display: none;\n",
       "}\n",
       "\n",
       ".xr-array-in:checked ~ .xr-array-data,\n",
       ".xr-array-preview {\n",
       "  display: inline-block;\n",
       "}\n",
       "\n",
       ".xr-dim-list {\n",
       "  display: inline-block !important;\n",
       "  list-style: none;\n",
       "  padding: 0 !important;\n",
       "  margin: 0;\n",
       "}\n",
       "\n",
       ".xr-dim-list li {\n",
       "  display: inline-block;\n",
       "  padding: 0;\n",
       "  margin: 0;\n",
       "}\n",
       "\n",
       ".xr-dim-list:before {\n",
       "  content: '(';\n",
       "}\n",
       "\n",
       ".xr-dim-list:after {\n",
       "  content: ')';\n",
       "}\n",
       "\n",
       ".xr-dim-list li:not(:last-child):after {\n",
       "  content: ',';\n",
       "  padding-right: 5px;\n",
       "}\n",
       "\n",
       ".xr-has-index {\n",
       "  font-weight: bold;\n",
       "}\n",
       "\n",
       ".xr-var-list,\n",
       ".xr-var-item {\n",
       "  display: contents;\n",
       "}\n",
       "\n",
       ".xr-var-item > div,\n",
       ".xr-var-item label,\n",
       ".xr-var-item > .xr-var-name span {\n",
       "  background-color: var(--xr-background-color-row-even);\n",
       "  margin-bottom: 0;\n",
       "}\n",
       "\n",
       ".xr-var-item > .xr-var-name:hover span {\n",
       "  padding-right: 5px;\n",
       "}\n",
       "\n",
       ".xr-var-list > li:nth-child(odd) > div,\n",
       ".xr-var-list > li:nth-child(odd) > label,\n",
       ".xr-var-list > li:nth-child(odd) > .xr-var-name span {\n",
       "  background-color: var(--xr-background-color-row-odd);\n",
       "}\n",
       "\n",
       ".xr-var-name {\n",
       "  grid-column: 1;\n",
       "}\n",
       "\n",
       ".xr-var-dims {\n",
       "  grid-column: 2;\n",
       "}\n",
       "\n",
       ".xr-var-dtype {\n",
       "  grid-column: 3;\n",
       "  text-align: right;\n",
       "  color: var(--xr-font-color2);\n",
       "}\n",
       "\n",
       ".xr-var-preview {\n",
       "  grid-column: 4;\n",
       "}\n",
       "\n",
       ".xr-index-preview {\n",
       "  grid-column: 2 / 5;\n",
       "  color: var(--xr-font-color2);\n",
       "}\n",
       "\n",
       ".xr-var-name,\n",
       ".xr-var-dims,\n",
       ".xr-var-dtype,\n",
       ".xr-preview,\n",
       ".xr-attrs dt {\n",
       "  white-space: nowrap;\n",
       "  overflow: hidden;\n",
       "  text-overflow: ellipsis;\n",
       "  padding-right: 10px;\n",
       "}\n",
       "\n",
       ".xr-var-name:hover,\n",
       ".xr-var-dims:hover,\n",
       ".xr-var-dtype:hover,\n",
       ".xr-attrs dt:hover {\n",
       "  overflow: visible;\n",
       "  width: auto;\n",
       "  z-index: 1;\n",
       "}\n",
       "\n",
       ".xr-var-attrs,\n",
       ".xr-var-data,\n",
       ".xr-index-data {\n",
       "  display: none;\n",
       "  background-color: var(--xr-background-color) !important;\n",
       "  padding-bottom: 5px !important;\n",
       "}\n",
       "\n",
       ".xr-var-attrs-in:checked ~ .xr-var-attrs,\n",
       ".xr-var-data-in:checked ~ .xr-var-data,\n",
       ".xr-index-data-in:checked ~ .xr-index-data {\n",
       "  display: block;\n",
       "}\n",
       "\n",
       ".xr-var-data > table {\n",
       "  float: right;\n",
       "}\n",
       "\n",
       ".xr-var-name span,\n",
       ".xr-var-data,\n",
       ".xr-index-name div,\n",
       ".xr-index-data,\n",
       ".xr-attrs {\n",
       "  padding-left: 25px !important;\n",
       "}\n",
       "\n",
       ".xr-attrs,\n",
       ".xr-var-attrs,\n",
       ".xr-var-data,\n",
       ".xr-index-data {\n",
       "  grid-column: 1 / -1;\n",
       "}\n",
       "\n",
       "dl.xr-attrs {\n",
       "  padding: 0;\n",
       "  margin: 0;\n",
       "  display: grid;\n",
       "  grid-template-columns: 125px auto;\n",
       "}\n",
       "\n",
       ".xr-attrs dt,\n",
       ".xr-attrs dd {\n",
       "  padding: 0;\n",
       "  margin: 0;\n",
       "  float: left;\n",
       "  padding-right: 10px;\n",
       "  width: auto;\n",
       "}\n",
       "\n",
       ".xr-attrs dt {\n",
       "  font-weight: normal;\n",
       "  grid-column: 1;\n",
       "}\n",
       "\n",
       ".xr-attrs dt:hover span {\n",
       "  display: inline-block;\n",
       "  background: var(--xr-background-color);\n",
       "  padding-right: 10px;\n",
       "}\n",
       "\n",
       ".xr-attrs dd {\n",
       "  grid-column: 2;\n",
       "  white-space: pre-wrap;\n",
       "  word-break: break-all;\n",
       "}\n",
       "\n",
       ".xr-icon-database,\n",
       ".xr-icon-file-text2,\n",
       ".xr-no-icon {\n",
       "  display: inline-block;\n",
       "  vertical-align: middle;\n",
       "  width: 1em;\n",
       "  height: 1.5em !important;\n",
       "  stroke-width: 0;\n",
       "  stroke: currentColor;\n",
       "  fill: currentColor;\n",
       "}\n",
       "</style><pre class='xr-text-repr-fallback'>&lt;xarray.DataArray &#x27;y_mean&#x27; (y_obs: 5163, sample: 7998)&gt;\n",
       "array([[0.1521665 , 0.14194562, 0.15456152, ..., 0.12455955, 0.10494097,\n",
       "        0.10214694],\n",
       "       [0.1521665 , 0.14194562, 0.15456152, ..., 0.10717551, 0.12416974,\n",
       "        0.13831298],\n",
       "       [0.27126846, 0.21158878, 0.25885596, ..., 0.20129147, 0.22836312,\n",
       "        0.22462256],\n",
       "       ...,\n",
       "       [0.1521665 , 0.14194562, 0.15456152, ..., 0.12279906, 0.12676241,\n",
       "        0.14338337],\n",
       "       [0.1521665 , 0.14194562, 0.15456152, ..., 0.12461054, 0.12818155,\n",
       "        0.14433912],\n",
       "       [0.1521665 , 0.14194562, 0.15456152, ..., 0.09927731, 0.11647581,\n",
       "        0.13371203]])\n",
       "Coordinates:\n",
       "  * y_obs    (y_obs) int64 0 1 2 3 4 5 6 ... 5156 5157 5158 5159 5160 5161 5162\n",
       "  * sample   (sample) object MultiIndex\n",
       "  * chain    (sample) int64 1 1 0 2 3 3 0 2 3 1 2 0 ... 0 0 1 2 2 0 0 0 1 3 0 3\n",
       "  * draw     (sample) int64 1491 1229 351 1017 940 ... 1846 611 1894 1368 818</pre><div class='xr-wrap' style='display:none'><div class='xr-header'><div class='xr-obj-type'>xarray.DataArray</div><div class='xr-array-name'>'y_mean'</div><ul class='xr-dim-list'><li><span class='xr-has-index'>y_obs</span>: 5163</li><li><span class='xr-has-index'>sample</span>: 7998</li></ul></div><ul class='xr-sections'><li class='xr-section-item'><div class='xr-array-wrap'><input id='section-e02e941c-dace-4d28-9dea-83b4ea518f80' class='xr-array-in' type='checkbox' checked><label for='section-e02e941c-dace-4d28-9dea-83b4ea518f80' title='Show/hide data repr'><svg class='icon xr-icon-database'><use xlink:href='#icon-database'></use></svg></label><div class='xr-array-preview xr-preview'><span>0.1522 0.1419 0.1546 0.1486 0.1457 ... 0.1331 0.09928 0.1165 0.1337</span></div><div class='xr-array-data'><pre>array([[0.1521665 , 0.14194562, 0.15456152, ..., 0.12455955, 0.10494097,\n",
       "        0.10214694],\n",
       "       [0.1521665 , 0.14194562, 0.15456152, ..., 0.10717551, 0.12416974,\n",
       "        0.13831298],\n",
       "       [0.27126846, 0.21158878, 0.25885596, ..., 0.20129147, 0.22836312,\n",
       "        0.22462256],\n",
       "       ...,\n",
       "       [0.1521665 , 0.14194562, 0.15456152, ..., 0.12279906, 0.12676241,\n",
       "        0.14338337],\n",
       "       [0.1521665 , 0.14194562, 0.15456152, ..., 0.12461054, 0.12818155,\n",
       "        0.14433912],\n",
       "       [0.1521665 , 0.14194562, 0.15456152, ..., 0.09927731, 0.11647581,\n",
       "        0.13371203]])</pre></div></div></li><li class='xr-section-item'><input id='section-3e3112e1-0839-453a-a668-df50d4b023de' class='xr-section-summary-in' type='checkbox'  checked><label for='section-3e3112e1-0839-453a-a668-df50d4b023de' class='xr-section-summary' >Coordinates: <span>(4)</span></label><div class='xr-section-inline-details'></div><div class='xr-section-details'><ul class='xr-var-list'><li class='xr-var-item'><div class='xr-var-name'><span class='xr-has-index'>y_obs</span></div><div class='xr-var-dims'>(y_obs)</div><div class='xr-var-dtype'>int64</div><div class='xr-var-preview xr-preview'>0 1 2 3 4 ... 5159 5160 5161 5162</div><input id='attrs-3dac3e46-b7d3-424f-ac52-a61baeda8b23' class='xr-var-attrs-in' type='checkbox' disabled><label for='attrs-3dac3e46-b7d3-424f-ac52-a61baeda8b23' title='Show/Hide attributes'><svg class='icon xr-icon-file-text2'><use xlink:href='#icon-file-text2'></use></svg></label><input id='data-1c13ff78-9276-4ce7-b8bf-ec519e1a7d5d' class='xr-var-data-in' type='checkbox'><label for='data-1c13ff78-9276-4ce7-b8bf-ec519e1a7d5d' title='Show/Hide data repr'><svg class='icon xr-icon-database'><use xlink:href='#icon-database'></use></svg></label><div class='xr-var-attrs'><dl class='xr-attrs'></dl></div><div class='xr-var-data'><pre>array([   0,    1,    2, ..., 5160, 5161, 5162])</pre></div></li><li class='xr-var-item'><div class='xr-var-name'><span class='xr-has-index'>sample</span></div><div class='xr-var-dims'>(sample)</div><div class='xr-var-dtype'>object</div><div class='xr-var-preview xr-preview'>MultiIndex</div><input id='attrs-8803416a-f383-4351-8886-1bf4ea087aaa' class='xr-var-attrs-in' type='checkbox' disabled><label for='attrs-8803416a-f383-4351-8886-1bf4ea087aaa' title='Show/Hide attributes'><svg class='icon xr-icon-file-text2'><use xlink:href='#icon-file-text2'></use></svg></label><input id='data-d509c86e-d264-4cfb-9660-98d1d4cb260a' class='xr-var-data-in' type='checkbox'><label for='data-d509c86e-d264-4cfb-9660-98d1d4cb260a' title='Show/Hide data repr'><svg class='icon xr-icon-database'><use xlink:href='#icon-database'></use></svg></label><div class='xr-var-attrs'><dl class='xr-attrs'></dl></div><div class='xr-var-data'><pre>array([(1, 1491), (1, 1229), (0, 351), ..., (3, 1894), (0, 1368), (3, 818)],\n",
       "      dtype=object)</pre></div></li><li class='xr-var-item'><div class='xr-var-name'><span class='xr-has-index'>chain</span></div><div class='xr-var-dims'>(sample)</div><div class='xr-var-dtype'>int64</div><div class='xr-var-preview xr-preview'>1 1 0 2 3 3 0 2 ... 2 0 0 0 1 3 0 3</div><input id='attrs-cad6666d-60d5-4ff1-a29e-63bc522fb555' class='xr-var-attrs-in' type='checkbox' disabled><label for='attrs-cad6666d-60d5-4ff1-a29e-63bc522fb555' title='Show/Hide attributes'><svg class='icon xr-icon-file-text2'><use xlink:href='#icon-file-text2'></use></svg></label><input id='data-b6f58915-b7e5-4f19-a63f-eb09a0eed68f' class='xr-var-data-in' type='checkbox'><label for='data-b6f58915-b7e5-4f19-a63f-eb09a0eed68f' title='Show/Hide data repr'><svg class='icon xr-icon-database'><use xlink:href='#icon-database'></use></svg></label><div class='xr-var-attrs'><dl class='xr-attrs'></dl></div><div class='xr-var-data'><pre>array([1, 1, 0, ..., 3, 0, 3])</pre></div></li><li class='xr-var-item'><div class='xr-var-name'><span class='xr-has-index'>draw</span></div><div class='xr-var-dims'>(sample)</div><div class='xr-var-dtype'>int64</div><div class='xr-var-preview xr-preview'>1491 1229 351 ... 1894 1368 818</div><input id='attrs-9aa0a5c8-b224-4c19-b4d3-8fa691e63cc9' class='xr-var-attrs-in' type='checkbox' disabled><label for='attrs-9aa0a5c8-b224-4c19-b4d3-8fa691e63cc9' title='Show/Hide attributes'><svg class='icon xr-icon-file-text2'><use xlink:href='#icon-file-text2'></use></svg></label><input id='data-36321c78-4d7e-4228-9c20-6333012956aa' class='xr-var-data-in' type='checkbox'><label for='data-36321c78-4d7e-4228-9c20-6333012956aa' title='Show/Hide data repr'><svg class='icon xr-icon-database'><use xlink:href='#icon-database'></use></svg></label><div class='xr-var-attrs'><dl class='xr-attrs'></dl></div><div class='xr-var-data'><pre>array([1491, 1229,  351, ..., 1894, 1368,  818])</pre></div></li></ul></div></li><li class='xr-section-item'><input id='section-b3054b30-4af4-4795-83fe-e69733eec094' class='xr-section-summary-in' type='checkbox'  ><label for='section-b3054b30-4af4-4795-83fe-e69733eec094' class='xr-section-summary' >Indexes: <span>(2)</span></label><div class='xr-section-inline-details'></div><div class='xr-section-details'><ul class='xr-var-list'><li class='xr-var-item'><div class='xr-index-name'><div>y_obs</div></div><div class='xr-index-preview'>PandasIndex</div><div></div><input id='index-65535718-e383-4b7c-a202-13a577664f59' class='xr-index-data-in' type='checkbox'/><label for='index-65535718-e383-4b7c-a202-13a577664f59' title='Show/Hide index repr'><svg class='icon xr-icon-database'><use xlink:href='#icon-database'></use></svg></label><div class='xr-index-data'><pre>PandasIndex(Index([   0,    1,    2,    3,    4,    5,    6,    7,    8,    9,\n",
       "       ...\n",
       "       5153, 5154, 5155, 5156, 5157, 5158, 5159, 5160, 5161, 5162],\n",
       "      dtype=&#x27;int64&#x27;, name=&#x27;y_obs&#x27;, length=5163))</pre></div></li><li class='xr-var-item'><div class='xr-index-name'><div>sample<br>chain<br>draw</div></div><div class='xr-index-preview'>PandasMultiIndex</div><div></div><input id='index-955f6405-939c-4d59-b3b1-c173f6a8cc0a' class='xr-index-data-in' type='checkbox'/><label for='index-955f6405-939c-4d59-b3b1-c173f6a8cc0a' title='Show/Hide index repr'><svg class='icon xr-icon-database'><use xlink:href='#icon-database'></use></svg></label><div class='xr-index-data'><pre>PandasIndex(MultiIndex([(1, 1491),\n",
       "            (1, 1229),\n",
       "            (0,  351),\n",
       "            (2, 1017),\n",
       "            (3,  940),\n",
       "            (3,  688),\n",
       "            (0,  887),\n",
       "            (2, 1165),\n",
       "            (3,  572),\n",
       "            (1, 1111),\n",
       "            ...\n",
       "            (1,  654),\n",
       "            (2,  577),\n",
       "            (2, 1353),\n",
       "            (0,  770),\n",
       "            (0, 1654),\n",
       "            (0, 1846),\n",
       "            (1,  611),\n",
       "            (3, 1894),\n",
       "            (0, 1368),\n",
       "            (3,  818)],\n",
       "           name=&#x27;sample&#x27;, length=7998))</pre></div></li></ul></div></li><li class='xr-section-item'><input id='section-aca31c5d-640a-4f3c-861f-f9524c739007' class='xr-section-summary-in' type='checkbox' disabled ><label for='section-aca31c5d-640a-4f3c-861f-f9524c739007' class='xr-section-summary'  title='Expand/collapse section'>Attributes: <span>(0)</span></label><div class='xr-section-inline-details'></div><div class='xr-section-details'><dl class='xr-attrs'></dl></div></li></ul></div></div>"
      ],
      "text/plain": [
       "<xarray.DataArray 'y_mean' (y_obs: 5163, sample: 7998)>\n",
       "array([[0.1521665 , 0.14194562, 0.15456152, ..., 0.12455955, 0.10494097,\n",
       "        0.10214694],\n",
       "       [0.1521665 , 0.14194562, 0.15456152, ..., 0.10717551, 0.12416974,\n",
       "        0.13831298],\n",
       "       [0.27126846, 0.21158878, 0.25885596, ..., 0.20129147, 0.22836312,\n",
       "        0.22462256],\n",
       "       ...,\n",
       "       [0.1521665 , 0.14194562, 0.15456152, ..., 0.12279906, 0.12676241,\n",
       "        0.14338337],\n",
       "       [0.1521665 , 0.14194562, 0.15456152, ..., 0.12461054, 0.12818155,\n",
       "        0.14433912],\n",
       "       [0.1521665 , 0.14194562, 0.15456152, ..., 0.09927731, 0.11647581,\n",
       "        0.13371203]])\n",
       "Coordinates:\n",
       "  * y_obs    (y_obs) int64 0 1 2 3 4 5 6 ... 5156 5157 5158 5159 5160 5161 5162\n",
       "  * sample   (sample) object MultiIndex\n",
       "  * chain    (sample) int64 1 1 0 2 3 3 0 2 3 1 2 0 ... 0 0 1 2 2 0 0 0 1 3 0 3\n",
       "  * draw     (sample) int64 1491 1229 351 1017 940 ... 1846 611 1894 1368 818"
      ]
     },
     "execution_count": 195,
     "metadata": {},
     "output_type": "execute_result"
    }
   ],
   "source": [
    "weighted_samples['posterior']['y_mean']"
   ]
  },
  {
   "cell_type": "code",
   "execution_count": 22,
   "id": "8117643a-38a8-4497-8f75-c171e494457e",
   "metadata": {},
   "outputs": [],
   "source": [
    "import xarray as xr\n",
    "\n",
    "weights = loo_compare[\"weight\"]\n",
    "traces = [fits[model] for model in weights.index]\n",
    "model_traces = [models[model] for model in weights.index]\n",
    "\n",
    "for model, trace in zip(model_traces, traces):\n",
    "   model.predict(trace, kind=\"pps\")\n",
    "\n",
    "len_idatas = [\n",
    "    idata.posterior_predictive.sizes[\"chain\"] * idata.posterior_predictive.sizes[\"draw\"]\n",
    "    for idata in traces\n",
    "]\n",
    "\n",
    "new_samples = (np.min(len_idatas) * weights).astype(int)\n",
    "new_idatas = [\n",
    "    az.extract(idata, group=\"posterior\", num_samples=samples).reset_coords()\n",
    "    for samples, idata in zip(new_samples, traces)\n",
    "]\n",
    "\n",
    "weighted_samples = az.InferenceData(\n",
    "        posterior=xr.concat(new_idatas, dim=\"sample\"),\n",
    "        observed_data=traces[0].observed_data,\n",
    ")"
   ]
  },
  {
   "cell_type": "code",
   "execution_count": 23,
   "id": "af6a6844-3e70-478c-ac02-ab829850ed40",
   "metadata": {},
   "outputs": [
    {
     "data": {
      "text/html": [
       "<div>\n",
       "<style scoped>\n",
       "    .dataframe tbody tr th:only-of-type {\n",
       "        vertical-align: middle;\n",
       "    }\n",
       "\n",
       "    .dataframe tbody tr th {\n",
       "        vertical-align: top;\n",
       "    }\n",
       "\n",
       "    .dataframe thead th {\n",
       "        text-align: right;\n",
       "    }\n",
       "</style>\n",
       "<table border=\"1\" class=\"dataframe\">\n",
       "  <thead>\n",
       "    <tr style=\"text-align: right;\">\n",
       "      <th></th>\n",
       "      <th>Estimated_lci</th>\n",
       "      <th>Estimated_uci</th>\n",
       "      <th>Observed</th>\n",
       "      <th>Estimated</th>\n",
       "      <th>Chao1</th>\n",
       "      <th>Detection ratio</th>\n",
       "    </tr>\n",
       "  </thead>\n",
       "  <tbody>\n",
       "    <tr>\n",
       "      <th>Pop. total</th>\n",
       "      <td>16988</td>\n",
       "      <td>19426</td>\n",
       "      <td>5610</td>\n",
       "      <td>18243</td>\n",
       "      <td>$16938$</td>\n",
       "      <td>0.308</td>\n",
       "    </tr>\n",
       "    <tr>\n",
       "      <th>origin[A]</th>\n",
       "      <td>7154</td>\n",
       "      <td>8291</td>\n",
       "      <td>2582</td>\n",
       "      <td>$7700^*$</td>\n",
       "      <td>7148</td>\n",
       "      <td>--</td>\n",
       "    </tr>\n",
       "    <tr>\n",
       "      <th>origin[B]</th>\n",
       "      <td>6863</td>\n",
       "      <td>8098</td>\n",
       "      <td>2275</td>\n",
       "      <td>$7455$</td>\n",
       "      <td>7029</td>\n",
       "      <td>--</td>\n",
       "    </tr>\n",
       "    <tr>\n",
       "      <th>origin[C]</th>\n",
       "      <td>2311</td>\n",
       "      <td>3734</td>\n",
       "      <td>753</td>\n",
       "      <td>$3089$</td>\n",
       "      <td>2982</td>\n",
       "      <td>--</td>\n",
       "    </tr>\n",
       "    <tr>\n",
       "      <th>sex[A]</th>\n",
       "      <td>14475</td>\n",
       "      <td>16923</td>\n",
       "      <td>4649</td>\n",
       "      <td>$15785$</td>\n",
       "      <td>14818</td>\n",
       "      <td>--</td>\n",
       "    </tr>\n",
       "    <tr>\n",
       "      <th>sex[B]</th>\n",
       "      <td>2188</td>\n",
       "      <td>2822</td>\n",
       "      <td>961</td>\n",
       "      <td>$2458$</td>\n",
       "      <td>2272</td>\n",
       "      <td>--</td>\n",
       "    </tr>\n",
       "    <tr>\n",
       "      <th>prior[A]</th>\n",
       "      <td>15712</td>\n",
       "      <td>18352</td>\n",
       "      <td>5100</td>\n",
       "      <td>$17160$</td>\n",
       "      <td>16299</td>\n",
       "      <td>--</td>\n",
       "    </tr>\n",
       "    <tr>\n",
       "      <th>prior[B]</th>\n",
       "      <td>942</td>\n",
       "      <td>1519</td>\n",
       "      <td>510</td>\n",
       "      <td>$1084$</td>\n",
       "      <td>1007</td>\n",
       "      <td>--</td>\n",
       "    </tr>\n",
       "    <tr>\n",
       "      <th>family[A]</th>\n",
       "      <td>10011</td>\n",
       "      <td>12337</td>\n",
       "      <td>3237</td>\n",
       "      <td>$11325$</td>\n",
       "      <td>10688</td>\n",
       "      <td>--</td>\n",
       "    </tr>\n",
       "    <tr>\n",
       "      <th>family[B]</th>\n",
       "      <td>6375</td>\n",
       "      <td>7505</td>\n",
       "      <td>2373</td>\n",
       "      <td>$6918$</td>\n",
       "      <td>6409</td>\n",
       "      <td>--</td>\n",
       "    </tr>\n",
       "  </tbody>\n",
       "</table>\n",
       "</div>"
      ],
      "text/plain": [
       "            Estimated_lci  Estimated_uci  Observed Estimated    Chao1  \\\n",
       "Pop. total          16988          19426      5610     18243  $16938$   \n",
       "origin[A]            7154           8291      2582  $7700^*$     7148   \n",
       "origin[B]            6863           8098      2275    $7455$     7029   \n",
       "origin[C]            2311           3734       753    $3089$     2982   \n",
       "sex[A]              14475          16923      4649   $15785$    14818   \n",
       "sex[B]               2188           2822       961    $2458$     2272   \n",
       "prior[A]            15712          18352      5100   $17160$    16299   \n",
       "prior[B]              942           1519       510    $1084$     1007   \n",
       "family[A]           10011          12337      3237   $11325$    10688   \n",
       "family[B]            6375           7505      2373    $6918$     6409   \n",
       "\n",
       "           Detection ratio  \n",
       "Pop. total           0.308  \n",
       "origin[A]               --  \n",
       "origin[B]               --  \n",
       "origin[C]               --  \n",
       "sex[A]                  --  \n",
       "sex[B]                  --  \n",
       "prior[A]                --  \n",
       "prior[B]                --  \n",
       "family[A]               --  \n",
       "family[B]               --  "
      ]
     },
     "execution_count": 23,
     "metadata": {},
     "output_type": "execute_result"
    }
   ],
   "source": [
    "# moeilijke tabel, want alles enkel in relatie tot reference levels\n",
    "from copia.data import to_copia_dataset\n",
    "from copia.estimators import diversity\n",
    "\n",
    "model = \"y ~ 1 + sex + age + age2 + prior + origin + family\"\n",
    "coef = az.summary(\n",
    "    fits[model], var_names=['prior', 'origin', 'sex', 'family']\n",
    ")[['mean', 'hdi_3%', 'hdi_97%']]\n",
    "coef['Observed'] = None\n",
    "coef['Estimated'] = None\n",
    "coef['Estimated_lci'] = None\n",
    "coef['Estimated_uci'] = None\n",
    "# coef.loc['sex[female]'] = ['0.0', None, None, None, None, None, None]\n",
    "# coef.loc['prior[no prior]'] = ['0.0', None, None, None, None, None, None]\n",
    "# coef.loc['family[family]'] = ['0.0', None, None, None, None, None, None]\n",
    "# coef.loc['origin[ABROAD]'] = ['0.0', None, None, None, None, None, None]\n",
    "coef.loc['Pop. total'] = None\n",
    "coef = coef.sort_index()\n",
    "\n",
    "N_obs = len(full_recid['count'])\n",
    "\n",
    "p = weighted_samples['posterior']['y_mean'].values\n",
    "l = (2 * p) / (1 - p)\n",
    "f0 = (1 / (l + (l**2) / 2))\n",
    "N_est = N_obs + f0.sum(0)\n",
    "N_lci, N_uci = quantile_bounds(N_est, quantile=0.89)\n",
    "\n",
    "coef.loc['Pop. total', 'Observed'] = N_obs\n",
    "coef.loc['Pop. total', 'Estimated'] = int(N_est.mean())\n",
    "coef.loc['Pop. total', 'Estimated_lci'] = int(N_lci)\n",
    "coef.loc['Pop. total', 'Estimated_uci'] = int(N_uci)\n",
    "\n",
    "ds = to_copia_dataset(full_recid[\"count\"], input_type=\"counts\")\n",
    "chao1_est = diversity(ds, method=\"chao1\", CI=False, n_jobs=4, n_iter=1000)\n",
    "chao1_est = f'${chao1_est:.0f}$'\n",
    "coef.loc['Pop. total', 'Chao1'] = chao1_est\n",
    "\n",
    "\n",
    "for var in ['origin', 'sex', 'prior', 'family']:\n",
    "    for level in recid[var].unique():\n",
    "        # observed\n",
    "        obs = len(full_recid[full_recid[var] == level])\n",
    "        coef.loc[f'{var}[{level}]', 'Observed'] = obs\n",
    "        # estimated\n",
    "        f0 = (1 / (l + (l**2) / 2)) * (recid[var] == level).astype(int).values[:, None]\n",
    "        est = obs + f0.sum(0)\n",
    "        N_lci, N_uci = quantile_bounds(est)\n",
    "        coef.loc[f'{var}[{level}]', 'Estimated_lci'] = int(N_lci)\n",
    "        coef.loc[f'{var}[{level}]', 'Estimated_uci'] = int(N_uci)\n",
    "\n",
    "        ds = to_copia_dataset(full_recid.loc[full_recid[var] == level, \"count\"], input_type=\"counts\")\n",
    "        chao1_est = diversity(ds, method=\"chao1\", CI=False, n_jobs=4, n_iter=1000)\n",
    "        if chao1_est < N_lci:\n",
    "            coef.loc[f'{var}[{level}]', 'Estimated'] = f'${est.mean():.0f}^*$'\n",
    "        else:\n",
    "            coef.loc[f'{var}[{level}]', 'Estimated'] = f'${est.mean():.0f}$'\n",
    "        coef.loc[f'{var}[{level}]', 'Chao1'] = int(chao1_est)\n",
    "\n",
    "detect_ratios = []\n",
    "\n",
    "for o, e in zip(coef['Observed'], coef['Estimated']):\n",
    "    try:\n",
    "        detect_ratios.append(o / e)\n",
    "    except TypeError:\n",
    "        detect_ratios.append(None)\n",
    "        \n",
    "coef['Detection ratio'] = detect_ratios\n",
    "\n",
    "coef = coef.reindex(['Pop. total', \n",
    "                     'origin[A]', 'origin[B]', 'origin[C]', \n",
    "                     'sex[A]', 'sex[B]',\n",
    "                     'prior[A]', 'prior[B]',\n",
    "                     'family[A]', 'family[B]',\n",
    "                    ])\n",
    "coef_averaged = coef.round(3).fillna('--')\n",
    "coef_averaged = coef_averaged[['Estimated_lci', 'Estimated_uci', 'Observed', 'Estimated', 'Chao1', 'Detection ratio']]\n",
    "coef_averaged"
   ]
  },
  {
   "cell_type": "code",
   "execution_count": 20,
   "id": "4afb6be3-40c3-4597-9c9e-58e5b4f68859",
   "metadata": {},
   "outputs": [],
   "source": [
    "from copia.data import to_copia_dataset\n",
    "from copia.estimators import diversity"
   ]
  },
  {
   "cell_type": "code",
   "execution_count": 23,
   "id": "520130de-2d82-454c-8b5e-4274b0b50a51",
   "metadata": {},
   "outputs": [
    {
     "data": {
      "text/plain": [
       "AbundanceData(S_obs=5610, f1=4334, f2=829, n=7896, counts=array([1, 2, 1, ..., 1, 2, 1]))"
      ]
     },
     "execution_count": 23,
     "metadata": {},
     "output_type": "execute_result"
    }
   ],
   "source": [
    "ds = to_copia_dataset(full_recid[\"count\"], input_type=\"counts\")"
   ]
  },
  {
   "cell_type": "code",
   "execution_count": 26,
   "id": "c5d1251e-c533-43ca-b2d8-8d12983f0527",
   "metadata": {},
   "outputs": [],
   "source": [
    "chao1_ests = {}"
   ]
  },
  {
   "cell_type": "code",
   "execution_count": 30,
   "id": "ed6caef3-4a58-4613-aaef-7ced61069b10",
   "metadata": {},
   "outputs": [
    {
     "data": {
      "application/json": {
       "ascii": false,
       "bar_format": null,
       "colour": null,
       "elapsed": 0.01055908203125,
       "initial": 0,
       "n": 0,
       "ncols": null,
       "nrows": 35,
       "postfix": null,
       "prefix": "",
       "rate": null,
       "total": 1000,
       "unit": "it",
       "unit_divisor": 1000,
       "unit_scale": false
      },
      "application/vnd.jupyter.widget-view+json": {
       "model_id": "825191909b7e46e38e156d6f71e1a353",
       "version_major": 2,
       "version_minor": 0
      },
      "text/plain": [
       "  0%|          | 0/1000 [00:00<?, ?it/s]"
      ]
     },
     "metadata": {},
     "output_type": "display_data"
    }
   ],
   "source": [
    "chao1_ests[\"full\"] = diversity(ds, method=\"chao1\", CI=True, n_jobs=4, n_iter=1000)"
   ]
  },
  {
   "cell_type": "code",
   "execution_count": 32,
   "id": "337ad845-fd24-40aa-a73f-226ce4507214",
   "metadata": {},
   "outputs": [
    {
     "data": {
      "application/json": {
       "ascii": false,
       "bar_format": null,
       "colour": null,
       "elapsed": 0.012608051300048828,
       "initial": 0,
       "n": 0,
       "ncols": null,
       "nrows": 35,
       "postfix": null,
       "prefix": "",
       "rate": null,
       "total": 1000,
       "unit": "it",
       "unit_divisor": 1000,
       "unit_scale": false
      },
      "application/vnd.jupyter.widget-view+json": {
       "model_id": "62eb1bf0a996402883a5036935ae5fbf",
       "version_major": 2,
       "version_minor": 0
      },
      "text/plain": [
       "  0%|          | 0/1000 [00:00<?, ?it/s]"
      ]
     },
     "metadata": {},
     "output_type": "display_data"
    },
    {
     "data": {
      "application/json": {
       "ascii": false,
       "bar_format": null,
       "colour": null,
       "elapsed": 0.0084228515625,
       "initial": 0,
       "n": 0,
       "ncols": null,
       "nrows": 35,
       "postfix": null,
       "prefix": "",
       "rate": null,
       "total": 1000,
       "unit": "it",
       "unit_divisor": 1000,
       "unit_scale": false
      },
      "application/vnd.jupyter.widget-view+json": {
       "model_id": "df6cae18b7254f76b10061b213fa12f1",
       "version_major": 2,
       "version_minor": 0
      },
      "text/plain": [
       "  0%|          | 0/1000 [00:00<?, ?it/s]"
      ]
     },
     "metadata": {},
     "output_type": "display_data"
    }
   ],
   "source": [
    "for sex in (\"male\", \"female\"):\n",
    "    ds = to_copia_dataset(full_recid.loc[full_recid[\"sex\"] == sex, \"count\"], input_type=\"counts\")\n",
    "    chao1_ests[f\"sex={sex}\"] = diversity(ds, method=\"chao1\", CI=True, n_jobs=4, n_iter=1000)"
   ]
  },
  {
   "cell_type": "code",
   "execution_count": 36,
   "id": "3df509c9-a72a-41c8-b0ac-091f145f181e",
   "metadata": {},
   "outputs": [
    {
     "data": {
      "application/json": {
       "ascii": false,
       "bar_format": null,
       "colour": null,
       "elapsed": 0.007958650588989258,
       "initial": 0,
       "n": 0,
       "ncols": null,
       "nrows": 35,
       "postfix": null,
       "prefix": "",
       "rate": null,
       "total": 1000,
       "unit": "it",
       "unit_divisor": 1000,
       "unit_scale": false
      },
      "application/vnd.jupyter.widget-view+json": {
       "model_id": "900fbb8a94214f95b5b8339fa5f1dd07",
       "version_major": 2,
       "version_minor": 0
      },
      "text/plain": [
       "  0%|          | 0/1000 [00:00<?, ?it/s]"
      ]
     },
     "metadata": {},
     "output_type": "display_data"
    },
    {
     "data": {
      "application/json": {
       "ascii": false,
       "bar_format": null,
       "colour": null,
       "elapsed": 0.01038503646850586,
       "initial": 0,
       "n": 0,
       "ncols": null,
       "nrows": 35,
       "postfix": null,
       "prefix": "",
       "rate": null,
       "total": 1000,
       "unit": "it",
       "unit_divisor": 1000,
       "unit_scale": false
      },
      "application/vnd.jupyter.widget-view+json": {
       "model_id": "0dc9c015c5414df99a715c7986ad516f",
       "version_major": 2,
       "version_minor": 0
      },
      "text/plain": [
       "  0%|          | 0/1000 [00:00<?, ?it/s]"
      ]
     },
     "metadata": {},
     "output_type": "display_data"
    }
   ],
   "source": [
    "for prior in (\"no prior\", \"prior\"):\n",
    "    ds = to_copia_dataset(full_recid.loc[full_recid[\"prior\"] == prior, \"count\"], input_type=\"counts\")\n",
    "    chao1_ests[f\"prior={prior}\"] = diversity(ds, method=\"chao1\", CI=True, n_jobs=4, n_iter=1000)"
   ]
  },
  {
   "cell_type": "code",
   "execution_count": 37,
   "id": "afa6785e-04d8-4205-ad48-358cbc508265",
   "metadata": {},
   "outputs": [
    {
     "data": {
      "application/json": {
       "ascii": false,
       "bar_format": null,
       "colour": null,
       "elapsed": 0.010455846786499023,
       "initial": 0,
       "n": 0,
       "ncols": null,
       "nrows": 35,
       "postfix": null,
       "prefix": "",
       "rate": null,
       "total": 1000,
       "unit": "it",
       "unit_divisor": 1000,
       "unit_scale": false
      },
      "application/vnd.jupyter.widget-view+json": {
       "model_id": "54eba6e4fa34415c8effadc797c9e35e",
       "version_major": 2,
       "version_minor": 0
      },
      "text/plain": [
       "  0%|          | 0/1000 [00:00<?, ?it/s]"
      ]
     },
     "metadata": {},
     "output_type": "display_data"
    },
    {
     "data": {
      "application/json": {
       "ascii": false,
       "bar_format": null,
       "colour": null,
       "elapsed": 0.010848045349121094,
       "initial": 0,
       "n": 0,
       "ncols": null,
       "nrows": 35,
       "postfix": null,
       "prefix": "",
       "rate": null,
       "total": 1000,
       "unit": "it",
       "unit_divisor": 1000,
       "unit_scale": false
      },
      "application/vnd.jupyter.widget-view+json": {
       "model_id": "7a3a11bd62b642aca8f263544c596224",
       "version_major": 2,
       "version_minor": 0
      },
      "text/plain": [
       "  0%|          | 0/1000 [00:00<?, ?it/s]"
      ]
     },
     "metadata": {},
     "output_type": "display_data"
    },
    {
     "data": {
      "application/json": {
       "ascii": false,
       "bar_format": null,
       "colour": null,
       "elapsed": 0.007623910903930664,
       "initial": 0,
       "n": 0,
       "ncols": null,
       "nrows": 35,
       "postfix": null,
       "prefix": "",
       "rate": null,
       "total": 1000,
       "unit": "it",
       "unit_divisor": 1000,
       "unit_scale": false
      },
      "application/vnd.jupyter.widget-view+json": {
       "model_id": "43721dd9d9ff4d54951b02c571dfccc6",
       "version_major": 2,
       "version_minor": 0
      },
      "text/plain": [
       "  0%|          | 0/1000 [00:00<?, ?it/s]"
      ]
     },
     "metadata": {},
     "output_type": "display_data"
    }
   ],
   "source": [
    "for origin in (\"BXL\", \"BE\", \"ABROAD\"):\n",
    "    ds = to_copia_dataset(full_recid.loc[full_recid[\"origin\"] == origin, \"count\"], input_type=\"counts\")\n",
    "    chao1_ests[f\"origin={origin}\"] = diversity(ds, method=\"chao1\", CI=True, n_jobs=4, n_iter=1000)"
   ]
  },
  {
   "cell_type": "code",
   "execution_count": 40,
   "id": "9dd87868-c890-414d-9b93-ad013f849b3c",
   "metadata": {},
   "outputs": [
    {
     "data": {
      "application/json": {
       "ascii": false,
       "bar_format": null,
       "colour": null,
       "elapsed": 0.010592937469482422,
       "initial": 0,
       "n": 0,
       "ncols": null,
       "nrows": 35,
       "postfix": null,
       "prefix": "",
       "rate": null,
       "total": 1000,
       "unit": "it",
       "unit_divisor": 1000,
       "unit_scale": false
      },
      "application/vnd.jupyter.widget-view+json": {
       "model_id": "ac627663ade141338fca2d3b38bc7043",
       "version_major": 2,
       "version_minor": 0
      },
      "text/plain": [
       "  0%|          | 0/1000 [00:00<?, ?it/s]"
      ]
     },
     "metadata": {},
     "output_type": "display_data"
    },
    {
     "data": {
      "application/json": {
       "ascii": false,
       "bar_format": null,
       "colour": null,
       "elapsed": 0.010617971420288086,
       "initial": 0,
       "n": 0,
       "ncols": null,
       "nrows": 35,
       "postfix": null,
       "prefix": "",
       "rate": null,
       "total": 1000,
       "unit": "it",
       "unit_divisor": 1000,
       "unit_scale": false
      },
      "application/vnd.jupyter.widget-view+json": {
       "model_id": "e46bd1bf97fc41aba0b38cc8e1ed5c55",
       "version_major": 2,
       "version_minor": 0
      },
      "text/plain": [
       "  0%|          | 0/1000 [00:00<?, ?it/s]"
      ]
     },
     "metadata": {},
     "output_type": "display_data"
    }
   ],
   "source": [
    "for family in (\"no family\", \"family\"):\n",
    "    ds = to_copia_dataset(full_recid.loc[full_recid[\"family\"] == family, \"count\"], input_type=\"counts\")\n",
    "    chao1_ests[f\"family={family}\"] = diversity(ds, method=\"chao1\", CI=True, n_jobs=4, n_iter=1000)"
   ]
  },
  {
   "cell_type": "code",
   "execution_count": 41,
   "id": "9d73416d-a86a-43a0-9935-1d72edbd2356",
   "metadata": {},
   "outputs": [
    {
     "data": {
      "text/html": [
       "<div>\n",
       "<style scoped>\n",
       "    .dataframe tbody tr th:only-of-type {\n",
       "        vertical-align: middle;\n",
       "    }\n",
       "\n",
       "    .dataframe tbody tr th {\n",
       "        vertical-align: top;\n",
       "    }\n",
       "\n",
       "    .dataframe thead th {\n",
       "        text-align: right;\n",
       "    }\n",
       "</style>\n",
       "<table border=\"1\" class=\"dataframe\">\n",
       "  <thead>\n",
       "    <tr style=\"text-align: right;\">\n",
       "      <th></th>\n",
       "      <th>est</th>\n",
       "      <th>lci</th>\n",
       "      <th>uci</th>\n",
       "    </tr>\n",
       "  </thead>\n",
       "  <tbody>\n",
       "    <tr>\n",
       "      <th>full</th>\n",
       "      <td>16937.609849</td>\n",
       "      <td>16209.862449</td>\n",
       "      <td>17725.740817</td>\n",
       "    </tr>\n",
       "    <tr>\n",
       "      <th>sex=male</th>\n",
       "      <td>14818.573164</td>\n",
       "      <td>14071.446676</td>\n",
       "      <td>15646.755176</td>\n",
       "    </tr>\n",
       "    <tr>\n",
       "      <th>sex=female</th>\n",
       "      <td>2272.184587</td>\n",
       "      <td>2047.509332</td>\n",
       "      <td>2522.686648</td>\n",
       "    </tr>\n",
       "    <tr>\n",
       "      <th>prior=no prior</th>\n",
       "      <td>16299.611145</td>\n",
       "      <td>15499.636477</td>\n",
       "      <td>17210.629570</td>\n",
       "    </tr>\n",
       "    <tr>\n",
       "      <th>prior=prior</th>\n",
       "      <td>1007.861912</td>\n",
       "      <td>895.845913</td>\n",
       "      <td>1142.373089</td>\n",
       "    </tr>\n",
       "    <tr>\n",
       "      <th>origin=BXL</th>\n",
       "      <td>7148.611655</td>\n",
       "      <td>6710.765288</td>\n",
       "      <td>7624.906797</td>\n",
       "    </tr>\n",
       "    <tr>\n",
       "      <th>origin=BE</th>\n",
       "      <td>7029.058104</td>\n",
       "      <td>6545.457287</td>\n",
       "      <td>7583.247827</td>\n",
       "    </tr>\n",
       "    <tr>\n",
       "      <th>origin=ABROAD</th>\n",
       "      <td>2982.850807</td>\n",
       "      <td>2596.911335</td>\n",
       "      <td>3468.086766</td>\n",
       "    </tr>\n",
       "    <tr>\n",
       "      <th>family=no family</th>\n",
       "      <td>10688.933419</td>\n",
       "      <td>10046.322834</td>\n",
       "      <td>11427.857091</td>\n",
       "    </tr>\n",
       "    <tr>\n",
       "      <th>family=family</th>\n",
       "      <td>6409.084138</td>\n",
       "      <td>6013.581508</td>\n",
       "      <td>6863.045327</td>\n",
       "    </tr>\n",
       "  </tbody>\n",
       "</table>\n",
       "</div>"
      ],
      "text/plain": [
       "                           est           lci           uci\n",
       "full              16937.609849  16209.862449  17725.740817\n",
       "sex=male          14818.573164  14071.446676  15646.755176\n",
       "sex=female         2272.184587   2047.509332   2522.686648\n",
       "prior=no prior    16299.611145  15499.636477  17210.629570\n",
       "prior=prior        1007.861912    895.845913   1142.373089\n",
       "origin=BXL         7148.611655   6710.765288   7624.906797\n",
       "origin=BE          7029.058104   6545.457287   7583.247827\n",
       "origin=ABROAD      2982.850807   2596.911335   3468.086766\n",
       "family=no family  10688.933419  10046.322834  11427.857091\n",
       "family=family      6409.084138   6013.581508   6863.045327"
      ]
     },
     "execution_count": 41,
     "metadata": {},
     "output_type": "execute_result"
    }
   ],
   "source": [
    "pd.DataFrame(chao1_ests).T"
   ]
  }
 ],
 "metadata": {
  "kernelspec": {
   "display_name": "Python 3 (ipykernel)",
   "language": "python",
   "name": "python3"
  },
  "language_info": {
   "codemirror_mode": {
    "name": "ipython",
    "version": 3
   },
   "file_extension": ".py",
   "mimetype": "text/x-python",
   "name": "python",
   "nbconvert_exporter": "python",
   "pygments_lexer": "ipython3",
   "version": "3.11.7"
  }
 },
 "nbformat": 4,
 "nbformat_minor": 5
}
